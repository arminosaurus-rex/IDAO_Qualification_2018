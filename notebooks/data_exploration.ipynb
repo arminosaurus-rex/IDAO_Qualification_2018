{
 "cells": [
  {
   "cell_type": "code",
   "execution_count": 1,
   "metadata": {
    "ExecuteTime": {
     "end_time": "2018-02-02T13:56:59.706242Z",
     "start_time": "2018-02-02T13:56:59.698245Z"
    }
   },
   "outputs": [
    {
     "name": "stdout",
     "output_type": "stream",
     "text": [
      "Appended C:\\Users\\black\\PycharmProjects\\idao\\src to paths\n",
      "Switched to directory C:\\Users\\black\\PycharmProjects\\idao\n"
     ]
    }
   ],
   "source": [
    "import blackhc.notebook"
   ]
  },
  {
   "cell_type": "code",
   "execution_count": 2,
   "metadata": {
    "ExecuteTime": {
     "end_time": "2018-02-02T13:57:03.416626Z",
     "start_time": "2018-02-02T13:57:03.064685Z"
    }
   },
   "outputs": [],
   "source": [
    "import pandas as pd"
   ]
  },
  {
   "cell_type": "code",
   "execution_count": 30,
   "metadata": {
    "ExecuteTime": {
     "end_time": "2018-02-02T16:10:09.542992Z",
     "start_time": "2018-02-02T16:10:03.353679Z"
    }
   },
   "outputs": [],
   "source": [
    "train_df = pd.read_hdf('./data/processed/train.hdf', key='data')"
   ]
  },
  {
   "cell_type": "markdown",
   "metadata": {},
   "source": [
    "## Sort all data by user, id3, date"
   ]
  },
  {
   "cell_type": "code",
   "execution_count": 34,
   "metadata": {
    "ExecuteTime": {
     "end_time": "2018-02-02T17:02:35.401723Z",
     "start_time": "2018-02-02T17:02:13.812273Z"
    }
   },
   "outputs": [],
   "source": [
    "train_sorted_df = train_df.sort_values(['user_id', 'id3', 'date'])"
   ]
  },
  {
   "cell_type": "code",
   "execution_count": 35,
   "metadata": {
    "ExecuteTime": {
     "end_time": "2018-02-02T17:02:56.477973Z",
     "start_time": "2018-02-02T17:02:38.732773Z"
    }
   },
   "outputs": [],
   "source": [
    "train_sorted_df.to_hdf('./data/processed/train_sorted.hdf', key='data', complevel=1, complib='zlib')"
   ]
  },
  {
   "cell_type": "code",
   "execution_count": 37,
   "metadata": {
    "ExecuteTime": {
     "end_time": "2018-02-02T17:05:35.692991Z",
     "start_time": "2018-02-02T17:05:35.686991Z"
    }
   },
   "outputs": [],
   "source": [
    "grouped_by = train_sorted_df.groupby(['user_id', 'id3'])"
   ]
  },
  {
   "cell_type": "markdown",
   "metadata": {},
   "source": [
    "## Can we dump all products that only appear once?"
   ]
  },
  {
   "cell_type": "code",
   "execution_count": 63,
   "metadata": {
    "ExecuteTime": {
     "end_time": "2018-02-02T18:11:17.771637Z",
     "start_time": "2018-02-02T18:11:13.134045Z"
    }
   },
   "outputs": [],
   "source": [
    "train_sorted_df.set_index(['user_id', 'id3'], inplace=True)"
   ]
  },
  {
   "cell_type": "code",
   "execution_count": 66,
   "metadata": {
    "ExecuteTime": {
     "end_time": "2018-02-02T18:36:47.568110Z",
     "start_time": "2018-02-02T18:36:34.058628Z"
    }
   },
   "outputs": [],
   "source": [
    "more_than_once = train_sorted_df.groupby(level=['user_id', 'id3']).size() > 1"
   ]
  },
  {
   "cell_type": "code",
   "execution_count": 71,
   "metadata": {
    "ExecuteTime": {
     "end_time": "2018-02-02T18:38:28.188369Z",
     "start_time": "2018-02-02T18:38:27.480813Z"
    }
   },
   "outputs": [
    {
     "data": {
      "text/plain": [
       "<matplotlib.axes._subplots.AxesSubplot at 0x16a3e09f080>"
      ]
     },
     "execution_count": 71,
     "metadata": {},
     "output_type": "execute_result"
    },
    {
     "data": {
      "image/png": "[encoded data removed]",
      "text/plain": [
       "<matplotlib.figure.Figure at 0x16988c4f5f8>"
      ]
     },
     "metadata": {},
     "output_type": "display_data"
    }
   ],
   "source": [
    "%matplotlib inline\n",
    "more_than_once.hist()"
   ]
  },
  {
   "cell_type": "markdown",
   "metadata": {
    "ExecuteTime": {
     "end_time": "2018-02-02T18:39:15.989576Z",
     "start_time": "2018-02-02T18:39:15.978073Z"
    }
   },
   "source": [
    "`more_than_once` contains an entry for every unique user_id/id3 pair.\n",
    "`train_sorted_df` contains an entry for every unique user_id/id3/date triple."
   ]
  },
  {
   "cell_type": "code",
   "execution_count": 75,
   "metadata": {
    "ExecuteTime": {
     "end_time": "2018-02-02T18:46:40.068760Z",
     "start_time": "2018-02-02T18:46:30.596199Z"
    }
   },
   "outputs": [
    {
     "name": "stderr",
     "output_type": "stream",
     "text": [
      "c:\\program files\\anaconda3\\lib\\site-packages\\ipykernel_launcher.py:1: UserWarning: Boolean Series key will be reindexed to match DataFrame index.\n",
      "  \"\"\"Entry point for launching an IPython kernel.\n"
     ]
    }
   ],
   "source": [
    "more_than_once_dates = train_sorted_df[more_than_once]"
   ]
  },
  {
   "cell_type": "code",
   "execution_count": 77,
   "metadata": {
    "ExecuteTime": {
     "end_time": "2018-02-02T18:53:17.014140Z",
     "start_time": "2018-02-02T18:53:10.050129Z"
    }
   },
   "outputs": [
    {
     "name": "stderr",
     "output_type": "stream",
     "text": [
      "c:\\program files\\anaconda3\\lib\\site-packages\\ipykernel_launcher.py:1: SettingWithCopyWarning: \n",
      "A value is trying to be set on a copy of a slice from a DataFrame.\n",
      "Try using .loc[row_indexer,col_indexer] = value instead\n",
      "\n",
      "See the caveats in the documentation: http://pandas.pydata.org/pandas-docs/stable/indexing.html#indexing-view-versus-copy\n",
      "  \"\"\"Entry point for launching an IPython kernel.\n"
     ]
    }
   ],
   "source": [
    "more_than_once_dates['prev_date'] = more_than_once_dates.groupby(['user_id', 'id3'])['date'].transform('shift')"
   ]
  },
  {
   "cell_type": "code",
   "execution_count": 79,
   "metadata": {
    "ExecuteTime": {
     "end_time": "2018-02-02T18:55:27.985742Z",
     "start_time": "2018-02-02T18:55:24.778158Z"
    }
   },
   "outputs": [],
   "source": [
    "more_than_once_dates_droppedna = more_than_once_dates.dropna()"
   ]
  },
  {
   "cell_type": "code",
   "execution_count": 84,
   "metadata": {
    "ExecuteTime": {
     "end_time": "2018-02-02T18:56:34.168885Z",
     "start_time": "2018-02-02T18:56:33.997889Z"
    }
   },
   "outputs": [
    {
     "name": "stderr",
     "output_type": "stream",
     "text": [
      "c:\\program files\\anaconda3\\lib\\site-packages\\ipykernel_launcher.py:1: SettingWithCopyWarning: \n",
      "A value is trying to be set on a copy of a slice from a DataFrame.\n",
      "Try using .loc[row_indexer,col_indexer] = value instead\n",
      "\n",
      "See the caveats in the documentation: http://pandas.pydata.org/pandas-docs/stable/indexing.html#indexing-view-versus-copy\n",
      "  \"\"\"Entry point for launching an IPython kernel.\n"
     ]
    }
   ],
   "source": [
    "more_than_once_dates_droppedna['frequency'] = more_than_once_dates_droppedna['date'] - more_than_once_dates_droppedna['prev_date']"
   ]
  },
  {
   "cell_type": "code",
   "execution_count": 101,
   "metadata": {
    "ExecuteTime": {
     "end_time": "2018-02-02T19:45:25.572416Z",
     "start_time": "2018-02-02T19:45:25.496867Z"
    }
   },
   "outputs": [],
   "source": [
    "frequency = more_than_once_dates_droppedna.drop(labels=['id2', 'date','id1', 'prev_date'], axis=1)"
   ]
  },
  {
   "cell_type": "code",
   "execution_count": 175,
   "metadata": {
    "ExecuteTime": {
     "end_time": "2018-02-03T09:57:11.727827Z",
     "start_time": "2018-02-03T09:57:07.595403Z"
    }
   },
   "outputs": [],
   "source": [
    "frequency_by_week = frequency.reset_index().groupby(['id3', 'frequency']).sum().drop(labels='user_id', axis=1).groupby('id3')['count'].rolling(7).sum()"
   ]
  },
  {
   "cell_type": "code",
   "execution_count": 194,
   "metadata": {
    "ExecuteTime": {
     "end_time": "2018-02-03T10:05:26.380938Z",
     "start_time": "2018-02-03T10:05:26.374966Z"
    }
   },
   "outputs": [],
   "source": [
    "frequency_by_week = frequency_by_week.reset_index(0).drop('id3', axis=1)"
   ]
  },
  {
   "cell_type": "code",
   "execution_count": 195,
   "metadata": {
    "ExecuteTime": {
     "end_time": "2018-02-03T10:05:33.904150Z",
     "start_time": "2018-02-03T10:05:33.882152Z"
    }
   },
   "outputs": [
    {
     "data": {
      "text/html": [
       "<div>\n",
       "<style>\n",
       "    .dataframe thead tr:only-child th {\n",
       "        text-align: right;\n",
       "    }\n",
       "\n",
       "    .dataframe thead th {\n",
       "        text-align: left;\n",
       "    }\n",
       "\n",
       "    .dataframe tbody tr th {\n",
       "        vertical-align: top;\n",
       "    }\n",
       "</style>\n",
       "<table border=\"1\" class=\"dataframe\">\n",
       "  <thead>\n",
       "    <tr style=\"text-align: right;\">\n",
       "      <th></th>\n",
       "      <th></th>\n",
       "      <th>count</th>\n",
       "    </tr>\n",
       "    <tr>\n",
       "      <th>id3</th>\n",
       "      <th>frequency</th>\n",
       "      <th></th>\n",
       "    </tr>\n",
       "  </thead>\n",
       "  <tbody>\n",
       "    <tr>\n",
       "      <th rowspan=\"30\" valign=\"top\">0</th>\n",
       "      <th>1.0</th>\n",
       "      <td>NaN</td>\n",
       "    </tr>\n",
       "    <tr>\n",
       "      <th>2.0</th>\n",
       "      <td>NaN</td>\n",
       "    </tr>\n",
       "    <tr>\n",
       "      <th>3.0</th>\n",
       "      <td>NaN</td>\n",
       "    </tr>\n",
       "    <tr>\n",
       "      <th>4.0</th>\n",
       "      <td>NaN</td>\n",
       "    </tr>\n",
       "    <tr>\n",
       "      <th>5.0</th>\n",
       "      <td>NaN</td>\n",
       "    </tr>\n",
       "    <tr>\n",
       "      <th>6.0</th>\n",
       "      <td>NaN</td>\n",
       "    </tr>\n",
       "    <tr>\n",
       "      <th>7.0</th>\n",
       "      <td>9911.0</td>\n",
       "    </tr>\n",
       "    <tr>\n",
       "      <th>8.0</th>\n",
       "      <td>5709.0</td>\n",
       "    </tr>\n",
       "    <tr>\n",
       "      <th>9.0</th>\n",
       "      <td>4423.0</td>\n",
       "    </tr>\n",
       "    <tr>\n",
       "      <th>10.0</th>\n",
       "      <td>3656.0</td>\n",
       "    </tr>\n",
       "    <tr>\n",
       "      <th>11.0</th>\n",
       "      <td>3151.0</td>\n",
       "    </tr>\n",
       "    <tr>\n",
       "      <th>12.0</th>\n",
       "      <td>2703.0</td>\n",
       "    </tr>\n",
       "    <tr>\n",
       "      <th>13.0</th>\n",
       "      <td>2400.0</td>\n",
       "    </tr>\n",
       "    <tr>\n",
       "      <th>14.0</th>\n",
       "      <td>2075.0</td>\n",
       "    </tr>\n",
       "    <tr>\n",
       "      <th>15.0</th>\n",
       "      <td>1834.0</td>\n",
       "    </tr>\n",
       "    <tr>\n",
       "      <th>16.0</th>\n",
       "      <td>1646.0</td>\n",
       "    </tr>\n",
       "    <tr>\n",
       "      <th>17.0</th>\n",
       "      <td>1486.0</td>\n",
       "    </tr>\n",
       "    <tr>\n",
       "      <th>18.0</th>\n",
       "      <td>1380.0</td>\n",
       "    </tr>\n",
       "    <tr>\n",
       "      <th>19.0</th>\n",
       "      <td>1244.0</td>\n",
       "    </tr>\n",
       "    <tr>\n",
       "      <th>20.0</th>\n",
       "      <td>1106.0</td>\n",
       "    </tr>\n",
       "    <tr>\n",
       "      <th>21.0</th>\n",
       "      <td>1016.0</td>\n",
       "    </tr>\n",
       "    <tr>\n",
       "      <th>22.0</th>\n",
       "      <td>918.0</td>\n",
       "    </tr>\n",
       "    <tr>\n",
       "      <th>23.0</th>\n",
       "      <td>851.0</td>\n",
       "    </tr>\n",
       "    <tr>\n",
       "      <th>24.0</th>\n",
       "      <td>778.0</td>\n",
       "    </tr>\n",
       "    <tr>\n",
       "      <th>25.0</th>\n",
       "      <td>700.0</td>\n",
       "    </tr>\n",
       "    <tr>\n",
       "      <th>26.0</th>\n",
       "      <td>643.0</td>\n",
       "    </tr>\n",
       "    <tr>\n",
       "      <th>27.0</th>\n",
       "      <td>561.0</td>\n",
       "    </tr>\n",
       "    <tr>\n",
       "      <th>28.0</th>\n",
       "      <td>496.0</td>\n",
       "    </tr>\n",
       "    <tr>\n",
       "      <th>29.0</th>\n",
       "      <td>457.0</td>\n",
       "    </tr>\n",
       "    <tr>\n",
       "      <th>30.0</th>\n",
       "      <td>404.0</td>\n",
       "    </tr>\n",
       "    <tr>\n",
       "      <th>...</th>\n",
       "      <th>...</th>\n",
       "      <td>...</td>\n",
       "    </tr>\n",
       "    <tr>\n",
       "      <th rowspan=\"30\" valign=\"top\">930</th>\n",
       "      <th>9.0</th>\n",
       "      <td>470.0</td>\n",
       "    </tr>\n",
       "    <tr>\n",
       "      <th>10.0</th>\n",
       "      <td>344.0</td>\n",
       "    </tr>\n",
       "    <tr>\n",
       "      <th>11.0</th>\n",
       "      <td>284.0</td>\n",
       "    </tr>\n",
       "    <tr>\n",
       "      <th>12.0</th>\n",
       "      <td>219.0</td>\n",
       "    </tr>\n",
       "    <tr>\n",
       "      <th>13.0</th>\n",
       "      <td>173.0</td>\n",
       "    </tr>\n",
       "    <tr>\n",
       "      <th>14.0</th>\n",
       "      <td>143.0</td>\n",
       "    </tr>\n",
       "    <tr>\n",
       "      <th>15.0</th>\n",
       "      <td>117.0</td>\n",
       "    </tr>\n",
       "    <tr>\n",
       "      <th>16.0</th>\n",
       "      <td>93.0</td>\n",
       "    </tr>\n",
       "    <tr>\n",
       "      <th>17.0</th>\n",
       "      <td>76.0</td>\n",
       "    </tr>\n",
       "    <tr>\n",
       "      <th>18.0</th>\n",
       "      <td>69.0</td>\n",
       "    </tr>\n",
       "    <tr>\n",
       "      <th>19.0</th>\n",
       "      <td>57.0</td>\n",
       "    </tr>\n",
       "    <tr>\n",
       "      <th>20.0</th>\n",
       "      <td>52.0</td>\n",
       "    </tr>\n",
       "    <tr>\n",
       "      <th>21.0</th>\n",
       "      <td>51.0</td>\n",
       "    </tr>\n",
       "    <tr>\n",
       "      <th>22.0</th>\n",
       "      <td>48.0</td>\n",
       "    </tr>\n",
       "    <tr>\n",
       "      <th>23.0</th>\n",
       "      <td>49.0</td>\n",
       "    </tr>\n",
       "    <tr>\n",
       "      <th>24.0</th>\n",
       "      <td>49.0</td>\n",
       "    </tr>\n",
       "    <tr>\n",
       "      <th>25.0</th>\n",
       "      <td>41.0</td>\n",
       "    </tr>\n",
       "    <tr>\n",
       "      <th>26.0</th>\n",
       "      <td>39.0</td>\n",
       "    </tr>\n",
       "    <tr>\n",
       "      <th>27.0</th>\n",
       "      <td>36.0</td>\n",
       "    </tr>\n",
       "    <tr>\n",
       "      <th>28.0</th>\n",
       "      <td>30.0</td>\n",
       "    </tr>\n",
       "    <tr>\n",
       "      <th>30.0</th>\n",
       "      <td>25.0</td>\n",
       "    </tr>\n",
       "    <tr>\n",
       "      <th>31.0</th>\n",
       "      <td>22.0</td>\n",
       "    </tr>\n",
       "    <tr>\n",
       "      <th>32.0</th>\n",
       "      <td>21.0</td>\n",
       "    </tr>\n",
       "    <tr>\n",
       "      <th>34.0</th>\n",
       "      <td>20.0</td>\n",
       "    </tr>\n",
       "    <tr>\n",
       "      <th>35.0</th>\n",
       "      <td>19.0</td>\n",
       "    </tr>\n",
       "    <tr>\n",
       "      <th>37.0</th>\n",
       "      <td>16.0</td>\n",
       "    </tr>\n",
       "    <tr>\n",
       "      <th>39.0</th>\n",
       "      <td>14.0</td>\n",
       "    </tr>\n",
       "    <tr>\n",
       "      <th>41.0</th>\n",
       "      <td>13.0</td>\n",
       "    </tr>\n",
       "    <tr>\n",
       "      <th>46.0</th>\n",
       "      <td>12.0</td>\n",
       "    </tr>\n",
       "    <tr>\n",
       "      <th>47.0</th>\n",
       "      <td>12.0</td>\n",
       "    </tr>\n",
       "  </tbody>\n",
       "</table>\n",
       "<p>39396 rows × 1 columns</p>\n",
       "</div>"
      ],
      "text/plain": [
       "                count\n",
       "id3 frequency        \n",
       "0   1.0           NaN\n",
       "    2.0           NaN\n",
       "    3.0           NaN\n",
       "    4.0           NaN\n",
       "    5.0           NaN\n",
       "    6.0           NaN\n",
       "    7.0        9911.0\n",
       "    8.0        5709.0\n",
       "    9.0        4423.0\n",
       "    10.0       3656.0\n",
       "    11.0       3151.0\n",
       "    12.0       2703.0\n",
       "    13.0       2400.0\n",
       "    14.0       2075.0\n",
       "    15.0       1834.0\n",
       "    16.0       1646.0\n",
       "    17.0       1486.0\n",
       "    18.0       1380.0\n",
       "    19.0       1244.0\n",
       "    20.0       1106.0\n",
       "    21.0       1016.0\n",
       "    22.0        918.0\n",
       "    23.0        851.0\n",
       "    24.0        778.0\n",
       "    25.0        700.0\n",
       "    26.0        643.0\n",
       "    27.0        561.0\n",
       "    28.0        496.0\n",
       "    29.0        457.0\n",
       "    30.0        404.0\n",
       "...               ...\n",
       "930 9.0         470.0\n",
       "    10.0        344.0\n",
       "    11.0        284.0\n",
       "    12.0        219.0\n",
       "    13.0        173.0\n",
       "    14.0        143.0\n",
       "    15.0        117.0\n",
       "    16.0         93.0\n",
       "    17.0         76.0\n",
       "    18.0         69.0\n",
       "    19.0         57.0\n",
       "    20.0         52.0\n",
       "    21.0         51.0\n",
       "    22.0         48.0\n",
       "    23.0         49.0\n",
       "    24.0         49.0\n",
       "    25.0         41.0\n",
       "    26.0         39.0\n",
       "    27.0         36.0\n",
       "    28.0         30.0\n",
       "    30.0         25.0\n",
       "    31.0         22.0\n",
       "    32.0         21.0\n",
       "    34.0         20.0\n",
       "    35.0         19.0\n",
       "    37.0         16.0\n",
       "    39.0         14.0\n",
       "    41.0         13.0\n",
       "    46.0         12.0\n",
       "    47.0         12.0\n",
       "\n",
       "[39396 rows x 1 columns]"
      ]
     },
     "execution_count": 195,
     "metadata": {},
     "output_type": "execute_result"
    }
   ],
   "source": [
    "frequency_by_week"
   ]
  },
  {
   "cell_type": "code",
   "execution_count": 159,
   "metadata": {
    "ExecuteTime": {
     "end_time": "2018-02-03T09:40:41.217098Z",
     "start_time": "2018-02-03T09:40:39.155752Z"
    }
   },
   "outputs": [
    {
     "data": {
      "text/plain": [
       "array([[<matplotlib.axes._subplots.AxesSubplot object at 0x000001694AD9C908>,\n",
       "        <matplotlib.axes._subplots.AxesSubplot object at 0x000001694ADC2A58>,\n",
       "        <matplotlib.axes._subplots.AxesSubplot object at 0x000001694ADFA748>],\n",
       "       [<matplotlib.axes._subplots.AxesSubplot object at 0x000001694AE35278>,\n",
       "        <matplotlib.axes._subplots.AxesSubplot object at 0x000001694AE722E8>,\n",
       "        <matplotlib.axes._subplots.AxesSubplot object at 0x000001694AE72320>],\n",
       "       [<matplotlib.axes._subplots.AxesSubplot object at 0x000001694AED90B8>,\n",
       "        <matplotlib.axes._subplots.AxesSubplot object at 0x000001694AF13198>,\n",
       "        <matplotlib.axes._subplots.AxesSubplot object at 0x000001694AF45DD8>],\n",
       "       [<matplotlib.axes._subplots.AxesSubplot object at 0x000001694AEE6C88>,\n",
       "        <matplotlib.axes._subplots.AxesSubplot object at 0x000001694AFADA58>,\n",
       "        <matplotlib.axes._subplots.AxesSubplot object at 0x000001694AFE7748>]], dtype=object)"
      ]
     },
     "execution_count": 159,
     "metadata": {},
     "output_type": "execute_result"
    },
    {
     "data": {
      "image/png": "[encoded data removed]",
      "text/plain": [
       "<matplotlib.figure.Figure at 0x1694ad9c198>"
      ]
     },
     "metadata": {},
     "output_type": "display_data"
    }
   ],
   "source": [
    "# Using hist for the histogram\n",
    "frequency_noindex = frequency.reset_index()\n",
    "frequency_noindex[frequency_noindex['id3'] < 10].hist(by='id3', column='frequency')"
   ]
  },
  {
   "cell_type": "code",
   "execution_count": 104,
   "metadata": {
    "ExecuteTime": {
     "end_time": "2018-02-02T19:47:54.634678Z",
     "start_time": "2018-02-02T19:47:52.135100Z"
    }
   },
   "outputs": [],
   "source": [
    "# TODO: we can use hist directly on frequncy with columns = frequency...!\n",
    "frequency['count'] = 1\n",
    "frequency_counts = frequency.groupby(['id3', 'frequency']).count()"
   ]
  },
  {
   "cell_type": "code",
   "execution_count": 124,
   "metadata": {
    "ExecuteTime": {
     "end_time": "2018-02-02T19:53:06.669707Z",
     "start_time": "2018-02-02T19:53:06.657713Z"
    }
   },
   "outputs": [],
   "source": [
    "example = frequency_counts[frequency_counts.groupby('id3').sum() > 10000].dropna()"
   ]
  },
  {
   "cell_type": "code",
   "execution_count": 151,
   "metadata": {
    "ExecuteTime": {
     "end_time": "2018-02-02T20:02:36.008581Z",
     "start_time": "2018-02-02T20:02:36.004049Z"
    }
   },
   "outputs": [],
   "source": [
    "example_noindex = example.reset_index()"
   ]
  },
  {
   "cell_type": "code",
   "execution_count": 156,
   "metadata": {
    "ExecuteTime": {
     "end_time": "2018-02-02T20:04:29.919342Z",
     "start_time": "2018-02-02T20:04:27.993886Z"
    }
   },
   "outputs": [
    {
     "data": {
      "text/plain": [
       "id3\n",
       "0    AxesSubplot(0.125,0.125;0.775x0.755)\n",
       "1    AxesSubplot(0.125,0.125;0.775x0.755)\n",
       "3    AxesSubplot(0.125,0.125;0.775x0.755)\n",
       "6    AxesSubplot(0.125,0.125;0.775x0.755)\n",
       "dtype: object"
      ]
     },
     "execution_count": 156,
     "metadata": {},
     "output_type": "execute_result"
    },
    {
     "data": {
      "image/png": "[encoded data removed]",
      "text/plain": [
       "<matplotlib.figure.Figure at 0x1694a4c1cc0>"
      ]
     },
     "metadata": {},
     "output_type": "display_data"
    },
    {
     "data": {
      "image/png": "[encoded data removed]",
      "text/plain": [
       "<matplotlib.figure.Figure at 0x1694a6c2128>"
      ]
     },
     "metadata": {},
     "output_type": "display_data"
    },
    {
     "data": {
      "image/png": "[encoded data removed]",
      "text/plain": [
       "<matplotlib.figure.Figure at 0x1694a7a0748>"
      ]
     },
     "metadata": {},
     "output_type": "display_data"
    },
    {
     "data": {
      "image/png": "[encoded data removed]",
      "text/plain": [
       "<matplotlib.figure.Figure at 0x1694aa51438>"
      ]
     },
     "metadata": {},
     "output_type": "display_data"
    },
    {
     "data": {
      "image/png": "[encoded data removed]",
      "text/plain": [
       "<matplotlib.figure.Figure at 0x1694ab557f0>"
      ]
     },
     "metadata": {},
     "output_type": "display_data"
    }
   ],
   "source": [
    "example_noindex[example_noindex['id3'] < 10].groupby('id3').plot.bar(x='frequency', y='count')"
   ]
  },
  {
   "cell_type": "markdown",
   "metadata": {
    "ExecuteTime": {
     "end_time": "2018-02-02T17:06:10.391307Z",
     "start_time": "2018-02-02T17:05:55.929089Z"
    }
   },
   "source": [
    "## Can we visualize the frequencies a given product is bought at?"
   ]
  },
  {
   "cell_type": "markdown",
   "metadata": {},
   "source": [
    "## Sampling 10% of the data"
   ]
  },
  {
   "cell_type": "code",
   "execution_count": 30,
   "metadata": {
    "ExecuteTime": {
     "end_time": "2018-02-02T16:10:09.542992Z",
     "start_time": "2018-02-02T16:10:03.353679Z"
    }
   },
   "outputs": [],
   "source": [
    "train_df = pd.read_hdf('./data/processed/train.hdf', key='data')"
   ]
  },
  {
   "cell_type": "code",
   "execution_count": 5,
   "metadata": {
    "ExecuteTime": {
     "end_time": "2018-02-02T14:11:13.647706Z",
     "start_time": "2018-02-02T14:10:53.842602Z"
    }
   },
   "outputs": [
    {
     "data": {
      "text/html": [
       "<div>\n",
       "<style>\n",
       "    .dataframe thead tr:only-child th {\n",
       "        text-align: right;\n",
       "    }\n",
       "\n",
       "    .dataframe thead th {\n",
       "        text-align: left;\n",
       "    }\n",
       "\n",
       "    .dataframe tbody tr th {\n",
       "        vertical-align: top;\n",
       "    }\n",
       "</style>\n",
       "<table border=\"1\" class=\"dataframe\">\n",
       "  <thead>\n",
       "    <tr style=\"text-align: right;\">\n",
       "      <th></th>\n",
       "      <th>id3</th>\n",
       "      <th>user_id</th>\n",
       "      <th>id2</th>\n",
       "      <th>date</th>\n",
       "      <th>id1</th>\n",
       "    </tr>\n",
       "  </thead>\n",
       "  <tbody>\n",
       "    <tr>\n",
       "      <th>count</th>\n",
       "      <td>4.699683e+07</td>\n",
       "      <td>4.699683e+07</td>\n",
       "      <td>4.699683e+07</td>\n",
       "      <td>4.699683e+07</td>\n",
       "      <td>4.699683e+07</td>\n",
       "    </tr>\n",
       "    <tr>\n",
       "      <th>mean</th>\n",
       "      <td>4.699554e+02</td>\n",
       "      <td>5.880101e+05</td>\n",
       "      <td>5.276736e+01</td>\n",
       "      <td>2.457278e+01</td>\n",
       "      <td>8.352930e+00</td>\n",
       "    </tr>\n",
       "    <tr>\n",
       "      <th>std</th>\n",
       "      <td>2.633716e+02</td>\n",
       "      <td>3.406649e+05</td>\n",
       "      <td>3.657678e+01</td>\n",
       "      <td>1.406095e+01</td>\n",
       "      <td>3.235313e+00</td>\n",
       "    </tr>\n",
       "    <tr>\n",
       "      <th>min</th>\n",
       "      <td>0.000000e+00</td>\n",
       "      <td>0.000000e+00</td>\n",
       "      <td>0.000000e+00</td>\n",
       "      <td>1.000000e+00</td>\n",
       "      <td>0.000000e+00</td>\n",
       "    </tr>\n",
       "    <tr>\n",
       "      <th>25%</th>\n",
       "      <td>2.260000e+02</td>\n",
       "      <td>2.928090e+05</td>\n",
       "      <td>1.500000e+01</td>\n",
       "      <td>1.300000e+01</td>\n",
       "      <td>7.000000e+00</td>\n",
       "    </tr>\n",
       "    <tr>\n",
       "      <th>50%</th>\n",
       "      <td>5.090000e+02</td>\n",
       "      <td>5.867210e+05</td>\n",
       "      <td>4.900000e+01</td>\n",
       "      <td>2.400000e+01</td>\n",
       "      <td>9.000000e+00</td>\n",
       "    </tr>\n",
       "    <tr>\n",
       "      <th>75%</th>\n",
       "      <td>6.730000e+02</td>\n",
       "      <td>8.835830e+05</td>\n",
       "      <td>8.700000e+01</td>\n",
       "      <td>3.500000e+01</td>\n",
       "      <td>1.000000e+01</td>\n",
       "    </tr>\n",
       "    <tr>\n",
       "      <th>max</th>\n",
       "      <td>9.300000e+02</td>\n",
       "      <td>1.179571e+06</td>\n",
       "      <td>1.210000e+02</td>\n",
       "      <td>5.400000e+01</td>\n",
       "      <td>1.500000e+01</td>\n",
       "    </tr>\n",
       "  </tbody>\n",
       "</table>\n",
       "</div>"
      ],
      "text/plain": [
       "                id3       user_id           id2          date           id1\n",
       "count  4.699683e+07  4.699683e+07  4.699683e+07  4.699683e+07  4.699683e+07\n",
       "mean   4.699554e+02  5.880101e+05  5.276736e+01  2.457278e+01  8.352930e+00\n",
       "std    2.633716e+02  3.406649e+05  3.657678e+01  1.406095e+01  3.235313e+00\n",
       "min    0.000000e+00  0.000000e+00  0.000000e+00  1.000000e+00  0.000000e+00\n",
       "25%    2.260000e+02  2.928090e+05  1.500000e+01  1.300000e+01  7.000000e+00\n",
       "50%    5.090000e+02  5.867210e+05  4.900000e+01  2.400000e+01  9.000000e+00\n",
       "75%    6.730000e+02  8.835830e+05  8.700000e+01  3.500000e+01  1.000000e+01\n",
       "max    9.300000e+02  1.179571e+06  1.210000e+02  5.400000e+01  1.500000e+01"
      ]
     },
     "execution_count": 5,
     "metadata": {},
     "output_type": "execute_result"
    }
   ],
   "source": [
    "train_df.describe()"
   ]
  },
  {
   "cell_type": "code",
   "execution_count": 6,
   "metadata": {
    "ExecuteTime": {
     "end_time": "2018-02-02T14:14:47.778019Z",
     "start_time": "2018-02-02T14:14:44.666898Z"
    }
   },
   "outputs": [],
   "source": [
    "train_10p_df = train_df.sample(frac=0.1)"
   ]
  },
  {
   "cell_type": "code",
   "execution_count": 11,
   "metadata": {
    "ExecuteTime": {
     "end_time": "2018-02-02T14:20:51.959260Z",
     "start_time": "2018-02-02T14:20:49.546304Z"
    }
   },
   "outputs": [],
   "source": [
    "train_10p_df.to_hdf('./data/processed/train_10p.hdf', key='data', complevel=1, complib='zlib')"
   ]
  },
  {
   "cell_type": "code",
   "execution_count": 15,
   "metadata": {
    "ExecuteTime": {
     "end_time": "2018-02-02T14:23:30.049550Z",
     "start_time": "2018-02-02T14:23:30.046553Z"
    }
   },
   "outputs": [],
   "source": [
    "del train_10p_df"
   ]
  },
  {
   "cell_type": "code",
   "execution_count": 16,
   "metadata": {
    "ExecuteTime": {
     "end_time": "2018-02-02T14:23:42.044223Z",
     "start_time": "2018-02-02T14:23:42.040225Z"
    }
   },
   "outputs": [],
   "source": [
    "del train_df"
   ]
  },
  {
   "cell_type": "markdown",
   "metadata": {
    "ExecuteTime": {
     "end_time": "2018-02-02T14:21:55.161989Z",
     "start_time": "2018-02-02T14:21:55.157983Z"
    }
   },
   "source": [
    "## Exploration of the data\n",
    "(Either the full sample, or a sample, or dummy data)"
   ]
  },
  {
   "cell_type": "code",
   "execution_count": 14,
   "metadata": {
    "ExecuteTime": {
     "end_time": "2018-02-02T14:23:23.983975Z",
     "start_time": "2018-02-02T14:23:23.297669Z"
    }
   },
   "outputs": [],
   "source": [
    "df = pd.read_hdf('./data/processed/train_10p.hdf', key='data')"
   ]
  },
  {
   "cell_type": "code",
   "execution_count": 18,
   "metadata": {
    "ExecuteTime": {
     "end_time": "2018-02-02T14:25:33.745125Z",
     "start_time": "2018-02-02T14:25:29.908305Z"
    }
   },
   "outputs": [],
   "source": [
    "df.sort_values(['user_id','id3', 'date'], inplace=True)"
   ]
  },
  {
   "cell_type": "code",
   "execution_count": 28,
   "metadata": {
    "ExecuteTime": {
     "end_time": "2018-02-02T14:29:47.344660Z",
     "start_time": "2018-02-02T14:29:47.319658Z"
    }
   },
   "outputs": [
    {
     "data": {
      "text/html": [
       "<div>\n",
       "<style>\n",
       "    .dataframe thead tr:only-child th {\n",
       "        text-align: right;\n",
       "    }\n",
       "\n",
       "    .dataframe thead th {\n",
       "        text-align: left;\n",
       "    }\n",
       "\n",
       "    .dataframe tbody tr th {\n",
       "        vertical-align: top;\n",
       "    }\n",
       "</style>\n",
       "<table border=\"1\" class=\"dataframe\">\n",
       "  <thead>\n",
       "    <tr style=\"text-align: right;\">\n",
       "      <th></th>\n",
       "      <th>id3</th>\n",
       "      <th>user_id</th>\n",
       "      <th>id2</th>\n",
       "      <th>date</th>\n",
       "      <th>id1</th>\n",
       "    </tr>\n",
       "  </thead>\n",
       "  <tbody>\n",
       "    <tr>\n",
       "      <th>22355498</th>\n",
       "      <td>51</td>\n",
       "      <td>0</td>\n",
       "      <td>14</td>\n",
       "      <td>22</td>\n",
       "      <td>10</td>\n",
       "    </tr>\n",
       "    <tr>\n",
       "      <th>22240632</th>\n",
       "      <td>134</td>\n",
       "      <td>0</td>\n",
       "      <td>14</td>\n",
       "      <td>22</td>\n",
       "      <td>10</td>\n",
       "    </tr>\n",
       "    <tr>\n",
       "      <th>21996857</th>\n",
       "      <td>271</td>\n",
       "      <td>0</td>\n",
       "      <td>106</td>\n",
       "      <td>22</td>\n",
       "      <td>4</td>\n",
       "    </tr>\n",
       "    <tr>\n",
       "      <th>21403452</th>\n",
       "      <td>283</td>\n",
       "      <td>0</td>\n",
       "      <td>85</td>\n",
       "      <td>22</td>\n",
       "      <td>7</td>\n",
       "    </tr>\n",
       "    <tr>\n",
       "      <th>21537403</th>\n",
       "      <td>310</td>\n",
       "      <td>0</td>\n",
       "      <td>109</td>\n",
       "      <td>22</td>\n",
       "      <td>9</td>\n",
       "    </tr>\n",
       "    <tr>\n",
       "      <th>32052457</th>\n",
       "      <td>581</td>\n",
       "      <td>0</td>\n",
       "      <td>14</td>\n",
       "      <td>32</td>\n",
       "      <td>10</td>\n",
       "    </tr>\n",
       "    <tr>\n",
       "      <th>18282334</th>\n",
       "      <td>610</td>\n",
       "      <td>1</td>\n",
       "      <td>12</td>\n",
       "      <td>19</td>\n",
       "      <td>9</td>\n",
       "    </tr>\n",
       "    <tr>\n",
       "      <th>45675064</th>\n",
       "      <td>610</td>\n",
       "      <td>1</td>\n",
       "      <td>12</td>\n",
       "      <td>52</td>\n",
       "      <td>9</td>\n",
       "    </tr>\n",
       "    <tr>\n",
       "      <th>14317738</th>\n",
       "      <td>109</td>\n",
       "      <td>3</td>\n",
       "      <td>92</td>\n",
       "      <td>15</td>\n",
       "      <td>10</td>\n",
       "    </tr>\n",
       "    <tr>\n",
       "      <th>14159808</th>\n",
       "      <td>171</td>\n",
       "      <td>3</td>\n",
       "      <td>19</td>\n",
       "      <td>15</td>\n",
       "      <td>8</td>\n",
       "    </tr>\n",
       "    <tr>\n",
       "      <th>14999250</th>\n",
       "      <td>234</td>\n",
       "      <td>3</td>\n",
       "      <td>100</td>\n",
       "      <td>15</td>\n",
       "      <td>11</td>\n",
       "    </tr>\n",
       "    <tr>\n",
       "      <th>14781735</th>\n",
       "      <td>286</td>\n",
       "      <td>3</td>\n",
       "      <td>39</td>\n",
       "      <td>15</td>\n",
       "      <td>12</td>\n",
       "    </tr>\n",
       "    <tr>\n",
       "      <th>14869894</th>\n",
       "      <td>324</td>\n",
       "      <td>3</td>\n",
       "      <td>39</td>\n",
       "      <td>15</td>\n",
       "      <td>12</td>\n",
       "    </tr>\n",
       "    <tr>\n",
       "      <th>14691755</th>\n",
       "      <td>332</td>\n",
       "      <td>3</td>\n",
       "      <td>82</td>\n",
       "      <td>15</td>\n",
       "      <td>3</td>\n",
       "    </tr>\n",
       "    <tr>\n",
       "      <th>14231082</th>\n",
       "      <td>659</td>\n",
       "      <td>3</td>\n",
       "      <td>6</td>\n",
       "      <td>15</td>\n",
       "      <td>7</td>\n",
       "    </tr>\n",
       "    <tr>\n",
       "      <th>46189225</th>\n",
       "      <td>269</td>\n",
       "      <td>5</td>\n",
       "      <td>96</td>\n",
       "      <td>53</td>\n",
       "      <td>8</td>\n",
       "    </tr>\n",
       "    <tr>\n",
       "      <th>46279861</th>\n",
       "      <td>134</td>\n",
       "      <td>9</td>\n",
       "      <td>14</td>\n",
       "      <td>53</td>\n",
       "      <td>10</td>\n",
       "    </tr>\n",
       "    <tr>\n",
       "      <th>43656355</th>\n",
       "      <td>136</td>\n",
       "      <td>9</td>\n",
       "      <td>96</td>\n",
       "      <td>49</td>\n",
       "      <td>8</td>\n",
       "    </tr>\n",
       "    <tr>\n",
       "      <th>42361700</th>\n",
       "      <td>545</td>\n",
       "      <td>9</td>\n",
       "      <td>4</td>\n",
       "      <td>45</td>\n",
       "      <td>10</td>\n",
       "    </tr>\n",
       "    <tr>\n",
       "      <th>19863950</th>\n",
       "      <td>875</td>\n",
       "      <td>9</td>\n",
       "      <td>4</td>\n",
       "      <td>20</td>\n",
       "      <td>10</td>\n",
       "    </tr>\n",
       "    <tr>\n",
       "      <th>1460538</th>\n",
       "      <td>77</td>\n",
       "      <td>10</td>\n",
       "      <td>35</td>\n",
       "      <td>3</td>\n",
       "      <td>15</td>\n",
       "    </tr>\n",
       "    <tr>\n",
       "      <th>46006348</th>\n",
       "      <td>185</td>\n",
       "      <td>10</td>\n",
       "      <td>96</td>\n",
       "      <td>53</td>\n",
       "      <td>8</td>\n",
       "    </tr>\n",
       "    <tr>\n",
       "      <th>1556474</th>\n",
       "      <td>197</td>\n",
       "      <td>10</td>\n",
       "      <td>96</td>\n",
       "      <td>3</td>\n",
       "      <td>8</td>\n",
       "    </tr>\n",
       "    <tr>\n",
       "      <th>37053997</th>\n",
       "      <td>575</td>\n",
       "      <td>10</td>\n",
       "      <td>29</td>\n",
       "      <td>37</td>\n",
       "      <td>2</td>\n",
       "    </tr>\n",
       "    <tr>\n",
       "      <th>1123985</th>\n",
       "      <td>592</td>\n",
       "      <td>10</td>\n",
       "      <td>121</td>\n",
       "      <td>3</td>\n",
       "      <td>1</td>\n",
       "    </tr>\n",
       "    <tr>\n",
       "      <th>2945549</th>\n",
       "      <td>592</td>\n",
       "      <td>10</td>\n",
       "      <td>121</td>\n",
       "      <td>5</td>\n",
       "      <td>1</td>\n",
       "    </tr>\n",
       "    <tr>\n",
       "      <th>27483745</th>\n",
       "      <td>610</td>\n",
       "      <td>10</td>\n",
       "      <td>12</td>\n",
       "      <td>27</td>\n",
       "      <td>9</td>\n",
       "    </tr>\n",
       "    <tr>\n",
       "      <th>1799803</th>\n",
       "      <td>644</td>\n",
       "      <td>10</td>\n",
       "      <td>77</td>\n",
       "      <td>3</td>\n",
       "      <td>15</td>\n",
       "    </tr>\n",
       "    <tr>\n",
       "      <th>2742518</th>\n",
       "      <td>872</td>\n",
       "      <td>10</td>\n",
       "      <td>71</td>\n",
       "      <td>5</td>\n",
       "      <td>15</td>\n",
       "    </tr>\n",
       "    <tr>\n",
       "      <th>9799007</th>\n",
       "      <td>41</td>\n",
       "      <td>11</td>\n",
       "      <td>40</td>\n",
       "      <td>11</td>\n",
       "      <td>7</td>\n",
       "    </tr>\n",
       "    <tr>\n",
       "      <th>...</th>\n",
       "      <td>...</td>\n",
       "      <td>...</td>\n",
       "      <td>...</td>\n",
       "      <td>...</td>\n",
       "      <td>...</td>\n",
       "    </tr>\n",
       "    <tr>\n",
       "      <th>4068700</th>\n",
       "      <td>610</td>\n",
       "      <td>1179548</td>\n",
       "      <td>12</td>\n",
       "      <td>6</td>\n",
       "      <td>9</td>\n",
       "    </tr>\n",
       "    <tr>\n",
       "      <th>16076442</th>\n",
       "      <td>610</td>\n",
       "      <td>1179548</td>\n",
       "      <td>12</td>\n",
       "      <td>16</td>\n",
       "      <td>9</td>\n",
       "    </tr>\n",
       "    <tr>\n",
       "      <th>31610635</th>\n",
       "      <td>610</td>\n",
       "      <td>1179548</td>\n",
       "      <td>12</td>\n",
       "      <td>31</td>\n",
       "      <td>9</td>\n",
       "    </tr>\n",
       "    <tr>\n",
       "      <th>40360540</th>\n",
       "      <td>181</td>\n",
       "      <td>1179551</td>\n",
       "      <td>57</td>\n",
       "      <td>42</td>\n",
       "      <td>3</td>\n",
       "    </tr>\n",
       "    <tr>\n",
       "      <th>40295261</th>\n",
       "      <td>381</td>\n",
       "      <td>1179551</td>\n",
       "      <td>94</td>\n",
       "      <td>42</td>\n",
       "      <td>2</td>\n",
       "    </tr>\n",
       "    <tr>\n",
       "      <th>16249826</th>\n",
       "      <td>113</td>\n",
       "      <td>1179554</td>\n",
       "      <td>120</td>\n",
       "      <td>17</td>\n",
       "      <td>2</td>\n",
       "    </tr>\n",
       "    <tr>\n",
       "      <th>19598974</th>\n",
       "      <td>113</td>\n",
       "      <td>1179554</td>\n",
       "      <td>120</td>\n",
       "      <td>20</td>\n",
       "      <td>2</td>\n",
       "    </tr>\n",
       "    <tr>\n",
       "      <th>39078833</th>\n",
       "      <td>113</td>\n",
       "      <td>1179554</td>\n",
       "      <td>120</td>\n",
       "      <td>40</td>\n",
       "      <td>2</td>\n",
       "    </tr>\n",
       "    <tr>\n",
       "      <th>40192517</th>\n",
       "      <td>590</td>\n",
       "      <td>1179554</td>\n",
       "      <td>63</td>\n",
       "      <td>41</td>\n",
       "      <td>9</td>\n",
       "    </tr>\n",
       "    <tr>\n",
       "      <th>42906428</th>\n",
       "      <td>92</td>\n",
       "      <td>1179555</td>\n",
       "      <td>96</td>\n",
       "      <td>46</td>\n",
       "      <td>8</td>\n",
       "    </tr>\n",
       "    <tr>\n",
       "      <th>34229276</th>\n",
       "      <td>166</td>\n",
       "      <td>1179557</td>\n",
       "      <td>18</td>\n",
       "      <td>34</td>\n",
       "      <td>2</td>\n",
       "    </tr>\n",
       "    <tr>\n",
       "      <th>34219001</th>\n",
       "      <td>309</td>\n",
       "      <td>1179557</td>\n",
       "      <td>18</td>\n",
       "      <td>34</td>\n",
       "      <td>2</td>\n",
       "    </tr>\n",
       "    <tr>\n",
       "      <th>23540685</th>\n",
       "      <td>619</td>\n",
       "      <td>1179557</td>\n",
       "      <td>103</td>\n",
       "      <td>24</td>\n",
       "      <td>8</td>\n",
       "    </tr>\n",
       "    <tr>\n",
       "      <th>45433840</th>\n",
       "      <td>558</td>\n",
       "      <td>1179558</td>\n",
       "      <td>18</td>\n",
       "      <td>52</td>\n",
       "      <td>2</td>\n",
       "    </tr>\n",
       "    <tr>\n",
       "      <th>12871868</th>\n",
       "      <td>270</td>\n",
       "      <td>1179561</td>\n",
       "      <td>100</td>\n",
       "      <td>14</td>\n",
       "      <td>11</td>\n",
       "    </tr>\n",
       "    <tr>\n",
       "      <th>46546065</th>\n",
       "      <td>645</td>\n",
       "      <td>1179561</td>\n",
       "      <td>8</td>\n",
       "      <td>54</td>\n",
       "      <td>12</td>\n",
       "    </tr>\n",
       "    <tr>\n",
       "      <th>3317139</th>\n",
       "      <td>685</td>\n",
       "      <td>1179562</td>\n",
       "      <td>14</td>\n",
       "      <td>5</td>\n",
       "      <td>10</td>\n",
       "    </tr>\n",
       "    <tr>\n",
       "      <th>18856116</th>\n",
       "      <td>134</td>\n",
       "      <td>1179565</td>\n",
       "      <td>14</td>\n",
       "      <td>19</td>\n",
       "      <td>10</td>\n",
       "    </tr>\n",
       "    <tr>\n",
       "      <th>19843204</th>\n",
       "      <td>581</td>\n",
       "      <td>1179565</td>\n",
       "      <td>14</td>\n",
       "      <td>20</td>\n",
       "      <td>10</td>\n",
       "    </tr>\n",
       "    <tr>\n",
       "      <th>21835619</th>\n",
       "      <td>610</td>\n",
       "      <td>1179565</td>\n",
       "      <td>12</td>\n",
       "      <td>22</td>\n",
       "      <td>9</td>\n",
       "    </tr>\n",
       "    <tr>\n",
       "      <th>18246340</th>\n",
       "      <td>660</td>\n",
       "      <td>1179565</td>\n",
       "      <td>105</td>\n",
       "      <td>19</td>\n",
       "      <td>8</td>\n",
       "    </tr>\n",
       "    <tr>\n",
       "      <th>15175087</th>\n",
       "      <td>13</td>\n",
       "      <td>1179566</td>\n",
       "      <td>120</td>\n",
       "      <td>16</td>\n",
       "      <td>2</td>\n",
       "    </tr>\n",
       "    <tr>\n",
       "      <th>41058388</th>\n",
       "      <td>29</td>\n",
       "      <td>1179566</td>\n",
       "      <td>117</td>\n",
       "      <td>43</td>\n",
       "      <td>10</td>\n",
       "    </tr>\n",
       "    <tr>\n",
       "      <th>39163937</th>\n",
       "      <td>173</td>\n",
       "      <td>1179566</td>\n",
       "      <td>4</td>\n",
       "      <td>40</td>\n",
       "      <td>10</td>\n",
       "    </tr>\n",
       "    <tr>\n",
       "      <th>41810193</th>\n",
       "      <td>348</td>\n",
       "      <td>1179566</td>\n",
       "      <td>117</td>\n",
       "      <td>44</td>\n",
       "      <td>10</td>\n",
       "    </tr>\n",
       "    <tr>\n",
       "      <th>42224675</th>\n",
       "      <td>348</td>\n",
       "      <td>1179566</td>\n",
       "      <td>117</td>\n",
       "      <td>45</td>\n",
       "      <td>10</td>\n",
       "    </tr>\n",
       "    <tr>\n",
       "      <th>26151801</th>\n",
       "      <td>581</td>\n",
       "      <td>1179568</td>\n",
       "      <td>14</td>\n",
       "      <td>26</td>\n",
       "      <td>10</td>\n",
       "    </tr>\n",
       "    <tr>\n",
       "      <th>640203</th>\n",
       "      <td>594</td>\n",
       "      <td>1179569</td>\n",
       "      <td>85</td>\n",
       "      <td>2</td>\n",
       "      <td>7</td>\n",
       "    </tr>\n",
       "    <tr>\n",
       "      <th>367132</th>\n",
       "      <td>833</td>\n",
       "      <td>1179569</td>\n",
       "      <td>12</td>\n",
       "      <td>2</td>\n",
       "      <td>9</td>\n",
       "    </tr>\n",
       "    <tr>\n",
       "      <th>44500522</th>\n",
       "      <td>142</td>\n",
       "      <td>1179571</td>\n",
       "      <td>103</td>\n",
       "      <td>50</td>\n",
       "      <td>8</td>\n",
       "    </tr>\n",
       "  </tbody>\n",
       "</table>\n",
       "<p>4699683 rows × 5 columns</p>\n",
       "</div>"
      ],
      "text/plain": [
       "          id3  user_id  id2  date  id1\n",
       "22355498   51        0   14    22   10\n",
       "22240632  134        0   14    22   10\n",
       "21996857  271        0  106    22    4\n",
       "21403452  283        0   85    22    7\n",
       "21537403  310        0  109    22    9\n",
       "32052457  581        0   14    32   10\n",
       "18282334  610        1   12    19    9\n",
       "45675064  610        1   12    52    9\n",
       "14317738  109        3   92    15   10\n",
       "14159808  171        3   19    15    8\n",
       "14999250  234        3  100    15   11\n",
       "14781735  286        3   39    15   12\n",
       "14869894  324        3   39    15   12\n",
       "14691755  332        3   82    15    3\n",
       "14231082  659        3    6    15    7\n",
       "46189225  269        5   96    53    8\n",
       "46279861  134        9   14    53   10\n",
       "43656355  136        9   96    49    8\n",
       "42361700  545        9    4    45   10\n",
       "19863950  875        9    4    20   10\n",
       "1460538    77       10   35     3   15\n",
       "46006348  185       10   96    53    8\n",
       "1556474   197       10   96     3    8\n",
       "37053997  575       10   29    37    2\n",
       "1123985   592       10  121     3    1\n",
       "2945549   592       10  121     5    1\n",
       "27483745  610       10   12    27    9\n",
       "1799803   644       10   77     3   15\n",
       "2742518   872       10   71     5   15\n",
       "9799007    41       11   40    11    7\n",
       "...       ...      ...  ...   ...  ...\n",
       "4068700   610  1179548   12     6    9\n",
       "16076442  610  1179548   12    16    9\n",
       "31610635  610  1179548   12    31    9\n",
       "40360540  181  1179551   57    42    3\n",
       "40295261  381  1179551   94    42    2\n",
       "16249826  113  1179554  120    17    2\n",
       "19598974  113  1179554  120    20    2\n",
       "39078833  113  1179554  120    40    2\n",
       "40192517  590  1179554   63    41    9\n",
       "42906428   92  1179555   96    46    8\n",
       "34229276  166  1179557   18    34    2\n",
       "34219001  309  1179557   18    34    2\n",
       "23540685  619  1179557  103    24    8\n",
       "45433840  558  1179558   18    52    2\n",
       "12871868  270  1179561  100    14   11\n",
       "46546065  645  1179561    8    54   12\n",
       "3317139   685  1179562   14     5   10\n",
       "18856116  134  1179565   14    19   10\n",
       "19843204  581  1179565   14    20   10\n",
       "21835619  610  1179565   12    22    9\n",
       "18246340  660  1179565  105    19    8\n",
       "15175087   13  1179566  120    16    2\n",
       "41058388   29  1179566  117    43   10\n",
       "39163937  173  1179566    4    40   10\n",
       "41810193  348  1179566  117    44   10\n",
       "42224675  348  1179566  117    45   10\n",
       "26151801  581  1179568   14    26   10\n",
       "640203    594  1179569   85     2    7\n",
       "367132    833  1179569   12     2    9\n",
       "44500522  142  1179571  103    50    8\n",
       "\n",
       "[4699683 rows x 5 columns]"
      ]
     },
     "execution_count": 28,
     "metadata": {},
     "output_type": "execute_result"
    }
   ],
   "source": [
    "df"
   ]
  },
  {
   "cell_type": "code",
   "execution_count": null,
   "metadata": {},
   "outputs": [],
   "source": []
  }
 ],
 "metadata": {
  "kernelspec": {
   "display_name": "Python 3",
   "language": "python",
   "name": "python3"
  },
  "language_info": {
   "codemirror_mode": {
    "name": "ipython",
    "version": 3
   },
   "file_extension": ".py",
   "mimetype": "text/x-python",
   "name": "python",
   "nbconvert_exporter": "python",
   "pygments_lexer": "ipython3",
   "version": "3.6.3"
  },
  "varInspector": {
   "cols": {
    "lenName": 16,
    "lenType": 16,
    "lenVar": 40
   },
   "kernels_config": {
    "python": {
     "delete_cmd_postfix": "",
     "delete_cmd_prefix": "del ",
     "library": "var_list.py",
     "varRefreshCmd": "print(var_dic_list())"
    },
    "r": {
     "delete_cmd_postfix": ") ",
     "delete_cmd_prefix": "rm(",
     "library": "var_list.r",
     "varRefreshCmd": "cat(var_dic_list()) "
    }
   },
   "types_to_exclude": [
    "module",
    "function",
    "builtin_function_or_method",
    "instance",
    "_Feature"
   ],
   "window_display": false
  }
 },
 "nbformat": 4,
 "nbformat_minor": 2
}
