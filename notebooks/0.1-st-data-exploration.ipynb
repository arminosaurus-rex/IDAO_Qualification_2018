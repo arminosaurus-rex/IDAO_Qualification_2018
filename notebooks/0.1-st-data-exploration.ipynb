{
 "cells": [
  {
   "cell_type": "markdown",
   "metadata": {},
   "source": [
    "# Download Data"
   ]
  },
  {
   "cell_type": "code",
   "execution_count": 1,
   "metadata": {
    "collapsed": false,
    "scrolled": true
   },
   "outputs": [],
   "source": [
    "import os\n",
    "import sys\n",
    "nb_dir = os.path.split(os.getcwd())[0]\n",
    "src_dir = os.path.join(nb_dir, \"src\")\n",
    "if src_dir not in sys.path:\n",
    "    sys.path.append(src_dir)\n",
    "\n",
    "from data.make_dataset import download_dataset, create_hdf"
   ]
  },
  {
   "cell_type": "markdown",
   "metadata": {},
   "source": [
    "Execute `make data` or this cell first to import data."
   ]
  },
  {
   "cell_type": "code",
   "execution_count": 2,
   "metadata": {
    "collapsed": true
   },
   "outputs": [],
   "source": [
    "# download_dataset()\n",
    "# create_hdf()"
   ]
  },
  {
   "cell_type": "markdown",
   "metadata": {},
   "source": [
    "# Import Data"
   ]
  },
  {
   "cell_type": "code",
   "execution_count": 3,
   "metadata": {
    "collapsed": false
   },
   "outputs": [],
   "source": [
    "import pandas as pd\n",
    "\n",
    "df = pd.read_hdf('../data/processed/train.hdf', key='data').sample(frac=.1)"
   ]
  },
  {
   "cell_type": "code",
   "execution_count": 4,
   "metadata": {
    "collapsed": false
   },
   "outputs": [
    {
     "name": "stdout",
     "output_type": "stream",
     "text": [
      "1 54\n"
     ]
    }
   ],
   "source": [
    "minDay = df[\"date\"].min()\n",
    "maxDay = df[\"date\"].max()\n",
    "print(minDay, maxDay)"
   ]
  },
  {
   "cell_type": "code",
   "execution_count": 5,
   "metadata": {
    "collapsed": false
   },
   "outputs": [
    {
     "data": {
      "text/html": [
       "<div>\n",
       "<style scoped>\n",
       "    .dataframe tbody tr th:only-of-type {\n",
       "        vertical-align: middle;\n",
       "    }\n",
       "\n",
       "    .dataframe tbody tr th {\n",
       "        vertical-align: top;\n",
       "    }\n",
       "\n",
       "    .dataframe thead th {\n",
       "        text-align: right;\n",
       "    }\n",
       "</style>\n",
       "<table border=\"1\" class=\"dataframe\">\n",
       "  <thead>\n",
       "    <tr style=\"text-align: right;\">\n",
       "      <th></th>\n",
       "      <th>id3</th>\n",
       "      <th>user_id</th>\n",
       "      <th>id2</th>\n",
       "      <th>date</th>\n",
       "      <th>id1</th>\n",
       "    </tr>\n",
       "  </thead>\n",
       "  <tbody>\n",
       "    <tr>\n",
       "      <th>1619445</th>\n",
       "      <td>590</td>\n",
       "      <td>1109592</td>\n",
       "      <td>63</td>\n",
       "      <td>3</td>\n",
       "      <td>9</td>\n",
       "    </tr>\n",
       "    <tr>\n",
       "      <th>8065988</th>\n",
       "      <td>610</td>\n",
       "      <td>274777</td>\n",
       "      <td>12</td>\n",
       "      <td>9</td>\n",
       "      <td>9</td>\n",
       "    </tr>\n",
       "    <tr>\n",
       "      <th>22788221</th>\n",
       "      <td>162</td>\n",
       "      <td>186085</td>\n",
       "      <td>51</td>\n",
       "      <td>23</td>\n",
       "      <td>9</td>\n",
       "    </tr>\n",
       "    <tr>\n",
       "      <th>45076676</th>\n",
       "      <td>610</td>\n",
       "      <td>337137</td>\n",
       "      <td>12</td>\n",
       "      <td>51</td>\n",
       "      <td>9</td>\n",
       "    </tr>\n",
       "    <tr>\n",
       "      <th>33519259</th>\n",
       "      <td>741</td>\n",
       "      <td>865933</td>\n",
       "      <td>87</td>\n",
       "      <td>33</td>\n",
       "      <td>7</td>\n",
       "    </tr>\n",
       "  </tbody>\n",
       "</table>\n",
       "</div>"
      ],
      "text/plain": [
       "          id3  user_id  id2  date  id1\n",
       "1619445   590  1109592   63     3    9\n",
       "8065988   610   274777   12     9    9\n",
       "22788221  162   186085   51    23    9\n",
       "45076676  610   337137   12    51    9\n",
       "33519259  741   865933   87    33    7"
      ]
     },
     "execution_count": 5,
     "metadata": {},
     "output_type": "execute_result"
    }
   ],
   "source": [
    "df[:5]"
   ]
  },
  {
   "cell_type": "code",
   "execution_count": 6,
   "metadata": {
    "collapsed": false
   },
   "outputs": [
    {
     "data": {
      "text/plain": [
       "id3        4699683\n",
       "user_id    4699683\n",
       "id2        4699683\n",
       "date       4699683\n",
       "id1        4699683\n",
       "dtype: int64"
      ]
     },
     "execution_count": 6,
     "metadata": {},
     "output_type": "execute_result"
    }
   ],
   "source": [
    "df.count()"
   ]
  },
  {
   "cell_type": "markdown",
   "metadata": {},
   "source": [
    "# Train-Test-Split"
   ]
  },
  {
   "cell_type": "code",
   "execution_count": 7,
   "metadata": {
    "collapsed": true
   },
   "outputs": [],
   "source": [
    "train = df[df[\"date\"] <= maxDay - 7]\n",
    "test = df[df[\"date\"] > maxDay - 7]"
   ]
  },
  {
   "cell_type": "code",
   "execution_count": 8,
   "metadata": {
    "collapsed": false
   },
   "outputs": [
    {
     "name": "stdout",
     "output_type": "stream",
     "text": [
      "4351664 348019\n"
     ]
    }
   ],
   "source": [
    "print(train[\"id1\"].count(), test[\"id1\"].count())"
   ]
  },
  {
   "cell_type": "code",
   "execution_count": 9,
   "metadata": {
    "collapsed": false
   },
   "outputs": [
    {
     "name": "stdout",
     "output_type": "stream",
     "text": [
      "48 54\n"
     ]
    }
   ],
   "source": [
    "minDayTest = test[\"date\"].min()\n",
    "maxDayTest = test[\"date\"].max()\n",
    "print(minDayTest, maxDayTest)"
   ]
  },
  {
   "cell_type": "code",
   "execution_count": 10,
   "metadata": {
    "collapsed": false
   },
   "outputs": [
    {
     "name": "stdout",
     "output_type": "stream",
     "text": [
      "1 47\n"
     ]
    }
   ],
   "source": [
    "minDayTrain = train[\"date\"].min()\n",
    "maxDayTrain = train[\"date\"].max()\n",
    "print(minDayTrain, maxDayTrain)"
   ]
  },
  {
   "cell_type": "markdown",
   "metadata": {},
   "source": [
    "# Create Hash Maps"
   ]
  },
  {
   "cell_type": "code",
   "execution_count": 11,
   "metadata": {
    "collapsed": false
   },
   "outputs": [],
   "source": [
    "def parentIds(df):\n",
    "    id21, id32 = {}, {}\n",
    "    for index, row in df.iterrows():\n",
    "        if row[\"id2\"] in id21:\n",
    "            assert(id21[row[\"id2\"]] == row[\"id1\"])\n",
    "        else:\n",
    "            id21[row[\"id2\"]] = row[\"id1\"]\n",
    "        if row[\"id3\"] in id32:\n",
    "            assert(id32[row[\"id3\"]] == row[\"id2\"])\n",
    "        else:\n",
    "            id32[row[\"id3\"]] = row[\"id2\"]\n",
    "    return id21, id32"
   ]
  },
  {
   "cell_type": "code",
   "execution_count": 12,
   "metadata": {
    "collapsed": false
   },
   "outputs": [
    {
     "name": "stdout",
     "output_type": "stream",
     "text": [
      "{108: 4, 51: 9, 103: 8, 92: 10, 87: 7, 12: 9, 109: 9, 63: 9} {640: 109, 657: 108, 610: 12, 282: 92, 741: 87, 471: 87, 392: 92, 586: 103, 162: 51, 590: 63}\n"
     ]
    }
   ],
   "source": [
    "id21, id32 = parentIds(train[:10])\n",
    "print(id21, id32)"
   ]
  },
  {
   "cell_type": "code",
   "execution_count": 13,
   "metadata": {
    "collapsed": false
   },
   "outputs": [
    {
     "name": "stdout",
     "output_type": "stream",
     "text": [
      "122 919\n"
     ]
    }
   ],
   "source": [
    "id21, id32 = parentIds(train)\n",
    "print(len(id21), len(id32))"
   ]
  },
  {
   "cell_type": "code",
   "execution_count": 14,
   "metadata": {
    "collapsed": false
   },
   "outputs": [],
   "source": [
    "def userIds(df):\n",
    "    userToId3, id3ToUser = {}, {}\n",
    "    for index, row in df.iterrows():\n",
    "        if not row[\"user_id\"] in userToId3:\n",
    "            userToId3[row[\"user_id\"]] = []\n",
    "        userToId3[row[\"user_id\"]].append(row[\"id3\"])\n",
    "        if not row[\"id3\"] in id3ToUser:\n",
    "            id3ToUser[row[\"id3\"]] = []\n",
    "        id3ToUser[row[\"id3\"]].append(row[\"user_id\"])\n",
    "    return userToId3, id3ToUser"
   ]
  },
  {
   "cell_type": "code",
   "execution_count": 15,
   "metadata": {
    "collapsed": false
   },
   "outputs": [
    {
     "name": "stdout",
     "output_type": "stream",
     "text": [
      "{634866: [657], 804548: [586], 186085: [162], 1109592: [590], 274777: [610], 355770: [392], 1150139: [282], 865933: [741], 476510: [640], 292565: [471]} {640: [476510], 657: [634866], 610: [274777], 282: [1150139], 741: [865933], 471: [292565], 392: [355770], 586: [804548], 162: [186085], 590: [1109592]}\n"
     ]
    }
   ],
   "source": [
    "userToId3, id3ToUser = userIds(train[:10])\n",
    "print(userToId3, id3ToUser)"
   ]
  },
  {
   "cell_type": "code",
   "execution_count": 16,
   "metadata": {
    "collapsed": false
   },
   "outputs": [
    {
     "name": "stdout",
     "output_type": "stream",
     "text": [
      "585362 919\n"
     ]
    }
   ],
   "source": [
    "userToId3, id3ToUser = userIds(train)\n",
    "print(len(userToId3), len(id3ToUser))"
   ]
  },
  {
   "cell_type": "code",
   "execution_count": 17,
   "metadata": {
    "collapsed": false
   },
   "outputs": [],
   "source": [
    "def userVisits(df):\n",
    "    userId3Visits = {}\n",
    "    for index, row in df.iterrows():\n",
    "        if not row[\"user_id\"] in userId3Visits:\n",
    "            userId3Visits[row[\"user_id\"]] = {}\n",
    "        if not row[\"date\"] in userId3Visits[row[\"user_id\"]]:\n",
    "            userId3Visits[row[\"user_id\"]][row[\"date\"]] = []\n",
    "        userId3Visits[row[\"user_id\"]][row[\"date\"]].append(row[\"id3\"])\n",
    "    return userId3Visits"
   ]
  },
  {
   "cell_type": "code",
   "execution_count": 18,
   "metadata": {
    "collapsed": false
   },
   "outputs": [
    {
     "name": "stdout",
     "output_type": "stream",
     "text": [
      "{634866: {8: [657]}, 804548: {28: [586]}, 186085: {23: [162]}, 1109592: {3: [590]}, 274777: {9: [610]}, 355770: {32: [392]}, 1150139: {20: [282]}, 865933: {33: [741]}, 476510: {34: [640]}, 292565: {20: [471]}}\n"
     ]
    }
   ],
   "source": [
    "userId3Visits = userVisits(train[:10])\n",
    "print(userId3Visits)"
   ]
  },
  {
   "cell_type": "code",
   "execution_count": 19,
   "metadata": {
    "collapsed": false
   },
   "outputs": [
    {
     "name": "stdout",
     "output_type": "stream",
     "text": [
      "585362\n"
     ]
    }
   ],
   "source": [
    "userId3Visits = userVisits(train)\n",
    "print(len(userId3Visits))"
   ]
  },
  {
   "cell_type": "code",
   "execution_count": 20,
   "metadata": {
    "collapsed": false
   },
   "outputs": [
    {
     "name": "stdout",
     "output_type": "stream",
     "text": [
      "919\n"
     ]
    }
   ],
   "source": [
    "id3s = train[\"id3\"].unique()\n",
    "print(len(id3s))"
   ]
  },
  {
   "cell_type": "markdown",
   "metadata": {},
   "source": [
    "# Fix one Id3, look at the distribution of visits before"
   ]
  },
  {
   "cell_type": "code",
   "execution_count": 21,
   "metadata": {
    "collapsed": false
   },
   "outputs": [
    {
     "name": "stdout",
     "output_type": "stream",
     "text": [
      "42\n"
     ]
    }
   ],
   "source": [
    "id3 = list(id3ToUser.keys())[42]\n",
    "print(id3)"
   ]
  },
  {
   "cell_type": "code",
   "execution_count": 22,
   "metadata": {
    "collapsed": false
   },
   "outputs": [],
   "source": [
    "def profile(user, day, duration=7):\n",
    "    visits = userId3Visits[user]\n",
    "    id3Visited = []\n",
    "    for d in range(max(0, day - duration), day):\n",
    "        if d in visits:\n",
    "            id3Visited += visits[d]\n",
    "    return [id3Visited.count(i) for i in id3s]"
   ]
  },
  {
   "cell_type": "code",
   "execution_count": 23,
   "metadata": {
    "collapsed": false
   },
   "outputs": [],
   "source": [
    "X = []\n",
    "duration=7\n",
    "for user in id3ToUser[id3]:\n",
    "    visits = userId3Visits[user]\n",
    "    for day in range(minDayTrain, maxDayTrain + 1):\n",
    "        if day in visits and id3 in visits[day]:\n",
    "            X.append(profile(user, day, duration=duration))"
   ]
  },
  {
   "cell_type": "code",
   "execution_count": null,
   "metadata": {
    "collapsed": false
   },
   "outputs": [],
   "source": [
    "%matplotlib inline\n",
    "import matplotlib.pyplot as plt\n",
    "plt.rcParams[\"figure.figsize\"] = (15, 10)\n",
    "\n",
    "scatterx, scattery, scatters, scatterc = [], [], [], []\n",
    "for i in range(len(X)):\n",
    "    for j in range(len(X[i])):\n",
    "        if X[i][j]:\n",
    "            scatterx.append(i)\n",
    "            scattery.append(j)\n",
    "            scatters.append(1 * X[i][j])\n",
    "            if id21[id32[id3s[j]]] == id21[id32[id3]]:\n",
    "                scatterc.append(\"r\")\n",
    "            elif id32[id3s[j]] == id32[id3]:\n",
    "                scatterc.append(\"b\")\n",
    "            else:\n",
    "                scatterc.append(\"g\")\n",
    "plt.scatter(scatterx, scattery, s=scatters, c=scatterc)\n",
    "plt.xlabel(\"users that visited the id3\")\n",
    "plt.ylabel(\"id3\")\n",
    "plt.title(\"id3s that users visiting id3={} visited in the {} days before (red: same id1, blue: same id2)\".format(id3, duration))\n",
    "plt.show()"
   ]
  },
  {
   "cell_type": "code",
   "execution_count": null,
   "metadata": {
    "collapsed": true
   },
   "outputs": [],
   "source": []
  }
 ],
 "metadata": {
  "kernelspec": {
   "display_name": "Python 3",
   "language": "python",
   "name": "python3"
  },
  "language_info": {
   "codemirror_mode": {
    "name": "ipython",
    "version": 3
   },
   "file_extension": ".py",
   "mimetype": "text/x-python",
   "name": "python",
   "nbconvert_exporter": "python",
   "pygments_lexer": "ipython3",
   "version": "3.5.3"
  }
 },
 "nbformat": 4,
 "nbformat_minor": 2
}
