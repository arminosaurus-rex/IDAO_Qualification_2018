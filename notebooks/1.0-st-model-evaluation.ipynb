{
 "cells": [
  {
   "cell_type": "code",
   "execution_count": 1,
   "metadata": {
    "collapsed": false
   },
   "outputs": [
    {
     "name": "stdout",
     "output_type": "stream",
     "text": [
      "'writeandexecute' magic loaded.\n"
     ]
    }
   ],
   "source": [
    "import os\n",
    "import sys\n",
    "root_dir = os.path.split(os.getcwd())[0]\n",
    "src_dir = os.path.join(root_dir, \"src\")\n",
    "if src_dir not in sys.path:\n",
    "    sys.path.append(src_dir)\n",
    "os.chdir(root_dir)\n",
    "\n",
    "%load_ext ipyext.writeandexecute"
   ]
  },
  {
   "cell_type": "code",
   "execution_count": 2,
   "metadata": {
    "collapsed": true
   },
   "outputs": [],
   "source": [
    "%%writeandexecute -i loadDataset src/data/util.py\n",
    "\n",
    "from data.make_dataset import download_dataset, create_hdf\n",
    "import pandas as pd\n",
    "\n",
    "def loadDataset():\n",
    "    \"\"\"Load the data set and return it as a pandas data frame.\"\"\"\n",
    "    download_dataset()\n",
    "    create_hdf()\n",
    "    return pd.read_hdf('./data/processed/train.hdf', key='data')"
   ]
  },
  {
   "cell_type": "code",
   "execution_count": 3,
   "metadata": {
    "collapsed": true
   },
   "outputs": [],
   "source": [
    "%%writeandexecute -i trainTestSplit src/data/util.py\n",
    "\n",
    "def trainTestSplit(df):\n",
    "    \"\"\"\n",
    "    Split the data set into a train and a test set.\n",
    "    \n",
    "    The last 7 days are used for testing. Returns two pandas data frames, input should usually be the output of `loadDataset`.\n",
    "    \"\"\"\n",
    "    maxDay = df[\"date\"].max()\n",
    "    train = df[df[\"date\"] <= maxDay - 7]\n",
    "    test = df[df[\"date\"] > maxDay - 7]\n",
    "    return train, test"
   ]
  },
  {
   "cell_type": "code",
   "execution_count": 4,
   "metadata": {
    "collapsed": true
   },
   "outputs": [],
   "source": [
    "%%writeandexecute -i scoreResult src/data/util.py\n",
    "\n",
    "def scoreResult(pred, test, verbose=False):\n",
    "    \"\"\"\n",
    "    Compute the score of a prediction as done in the leaderbord.\n",
    "    \n",
    "    Give your predictions and the test set as pandas data frames as specified in the problem statement. Returns the score of the predictions without making further sanity checks. `verbose` can be set to true to print more output.\n",
    "    \"\"\"\n",
    "    score = 0\n",
    "    for i, row in pred.iterrows():\n",
    "        hit = False\n",
    "        for id3 in [row[\"id3_{}\".format(i)] for i in range(1, 6)]:\n",
    "            if ((test[\"user_id\"] == row[\"user_id\"]) & (test[\"id3\"] == id3)).any():\n",
    "                hit = True\n",
    "        if hit:\n",
    "            score += 1\n",
    "    if verbose: print(\"{} of {} correct\".format(score, pred[\"user_id\"].count()))\n",
    "    score = (score / pred[\"user_id\"].count()) * 10000\n",
    "    if verbose: print(\"score {}\".format(score))\n",
    "    return score"
   ]
  },
  {
   "cell_type": "code",
   "execution_count": 5,
   "metadata": {
    "collapsed": false
   },
   "outputs": [],
   "source": [
    "%%writeandexecute -i scoreSubmission src/data/util.py\n",
    "\n",
    "def scoreSubmission(predictor, verbose=False):\n",
    "    \"\"\"\n",
    "    Executes and compute the score of a prediction function.\n",
    "    \n",
    "    Give a function the takes a training data frame as input and returns a prediction data frame as specified in the problem statement. Returns the score of the predictions without making further sanity checks. `verbose` can be set to true to print more output.\n",
    "    \"\"\"\n",
    "    if verbose: print(\"loading data set...\")\n",
    "    train, test = trainTestSplit(loadDataset())\n",
    "    if verbose: print(\"computing predictions...\")\n",
    "    predictions = predictor(train)\n",
    "    if verbose: print(\"scoring answer...\")\n",
    "    return scoreResult(predictions, test, verbose=verbose), predictions"
   ]
  },
  {
   "cell_type": "code",
   "execution_count": null,
   "metadata": {
    "collapsed": true
   },
   "outputs": [],
   "source": []
  }
 ],
 "metadata": {
  "kernelspec": {
   "display_name": "Python 3",
   "language": "python",
   "name": "python3"
  },
  "language_info": {
   "codemirror_mode": {
    "name": "ipython",
    "version": 3
   },
   "file_extension": ".py",
   "mimetype": "text/x-python",
   "name": "python",
   "nbconvert_exporter": "python",
   "pygments_lexer": "ipython3",
   "version": "3.5.3"
  }
 },
 "nbformat": 4,
 "nbformat_minor": 2
}
