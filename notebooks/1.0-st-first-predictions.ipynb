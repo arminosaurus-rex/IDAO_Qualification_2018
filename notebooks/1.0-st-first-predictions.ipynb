{
 "cells": [
  {
   "cell_type": "code",
   "execution_count": 1,
   "metadata": {
    "collapsed": false
   },
   "outputs": [
    {
     "name": "stdout",
     "output_type": "stream",
     "text": [
      "'writeandexecute' magic loaded.\n"
     ]
    }
   ],
   "source": [
    "import os\n",
    "import sys\n",
    "root_dir = os.path.split(os.getcwd())[0]\n",
    "src_dir = os.path.join(root_dir, \"src\")\n",
    "if src_dir not in sys.path:\n",
    "    sys.path.append(src_dir)\n",
    "os.chdir(root_dir)\n",
    "\n",
    "%load_ext ipyext.writeandexecute"
   ]
  },
  {
   "cell_type": "code",
   "execution_count": 2,
   "metadata": {
    "collapsed": true
   },
   "outputs": [],
   "source": [
    "%%writeandexecute -i createFeatures src/models/stefan.py\n",
    "\n",
    "def createFeatures(user, day, userId3Visits, id3s, duration=7, sums=False):\n",
    "    id3Visited = []\n",
    "    for d in range(max(0, day - duration), day):\n",
    "        if (user, d) in userId3Visits:\n",
    "            id3Visited += userId3Visits[(user, d)]\n",
    "    return [id3Visited.count(i) for i in id3s] + ([len(id3Visited)] if sums else [])"
   ]
  },
  {
   "cell_type": "code",
   "execution_count": 3,
   "metadata": {
    "collapsed": true
   },
   "outputs": [],
   "source": [
    "%%writeandexecute -i findX1Samples src/models/stefan.py\n",
    "\n",
    "def findX1Samples(id3s, userId3Visits, minDayTrain, maxDayTrain, users, duration, cutoff=10000, verbose=False):\n",
    "    X1 = {id3: [] for id3 in id3s}\n",
    "    for i, user in enumerate(users):\n",
    "        if verbose and i % 100 == 0: print(\"user {} of {}\".format(i, len(users)))\n",
    "        for day in range(maxDayTrain, minDayTrain - 1, -1):\n",
    "            feat = createFeatures(user, day, userId3Visits, id3s, duration=duration, sums=True)\n",
    "            for id3 in id3s:\n",
    "                if len(X1[id3]) < cutoff and (user, day) in userId3Visits and id3 in userId3Visits[(user, day)]:\n",
    "                    if not any([(user, d) in userId3Visits and id3 in userId3Visits[(user, d)] for d in range(max(0, day - 21), day)]):\n",
    "                        X1[id3].append(feat)\n",
    "    return X1"
   ]
  },
  {
   "cell_type": "code",
   "execution_count": 4,
   "metadata": {
    "collapsed": true
   },
   "outputs": [],
   "source": [
    "%%writeandexecute -i findX0Samples src/models/stefan.py\n",
    "\n",
    "from random import shuffle\n",
    "\n",
    "def findX0Samples(X1, id3s, verbose=False):\n",
    "    X0 = {}\n",
    "    for i, id3 in enumerate(id3s):\n",
    "        if verbose and i % 100 == 0: print(\"id3 {} of {}\".format(i, len(id3s)))\n",
    "        rows = sum([X1[i] for i in id3s if not i == id3], [])\n",
    "        shuffle(rows)\n",
    "        X0[id3] = rows[:len(X1[id3])]\n",
    "    return X0"
   ]
  },
  {
   "cell_type": "code",
   "execution_count": 5,
   "metadata": {
    "collapsed": true
   },
   "outputs": [],
   "source": [
    "%%writeandexecute -i createRegressors src/models/stefan.py\n",
    "\n",
    "from sklearn.linear_model import SGDRegressor\n",
    "from sklearn.ensemble import RandomForestRegressor\n",
    "\n",
    "def createRegressors(X0, X1, id3s, verbose=False):\n",
    "    regressors = {}\n",
    "    for i, id3 in enumerate(id3s):\n",
    "        if verbose and i % 100 == 0: print(\"regressor {} of {}\".format(i, len(id3s)))\n",
    "        if len(X0[id3]) > 0 and len(X1[id3]) > 0:\n",
    "            regressors[id3] = RandomForestRegressor(max_depth=3, n_estimators=3).fit(X0[id3] + X1[id3], [0] * len(X0[id3]) + [1] * len(X1[id3])) \n",
    "    return regressors"
   ]
  },
  {
   "cell_type": "code",
   "execution_count": 6,
   "metadata": {
    "collapsed": true
   },
   "outputs": [],
   "source": [
    "%%writeandexecute -i computePredictions src/models/stefan.py\n",
    "\n",
    "def computePredictions(users, regressors, maxDayTrain, userId3Visits, duration, id3s, verbose=False):\n",
    "    predictions = {user: {} for user in users}\n",
    "    for i, user in enumerate(users):\n",
    "        if verbose and i % 1000 == 0: print(\"user {} of {}\".format(i, len(users)))\n",
    "        prof = createFeatures(user, maxDayTrain, userId3Visits, id3s, duration=duration, sums=True)\n",
    "        visited = sum([userId3Visits[(user, d)] if (user, d) in userId3Visits else [] for d in range(max(0, maxDayTrain - 21), maxDayTrain)], [])\n",
    "        for id3, regressor in regressors.items():\n",
    "            if not id3 in visited:\n",
    "                predictions[user][id3] = regressor.predict([prof])[0]\n",
    "    return predictions"
   ]
  },
  {
   "cell_type": "code",
   "execution_count": 7,
   "metadata": {
    "collapsed": true
   },
   "outputs": [],
   "source": [
    "%%writeandexecute -i extractTopPredictions src/models/stefan.py\n",
    "\n",
    "def extractTopPredictions(predictions, users, topCount=-1, verbose=False):\n",
    "    #sum up\n",
    "    if topCount == -1:\n",
    "        topCount = len(predictions) // 20\n",
    "    #regressorScores = {id3: regressors[id3].score(X0[id3] + X1[id3], [0] * len(X0[id3]) + [1] * len(X1[id3])) for id3 in id3s}\n",
    "    predictedId3s = {user: sorted(predictions[user].keys(), key=lambda id3: -predictions[user][id3])[:5] for user in users}\n",
    "    certainty = {user: sum([predictions[user][id3] for id3 in predictedId3s[user]]) for user in users}\n",
    "    topUsers = sorted(userToId3.keys(), key=lambda user: -certainty[user])[:topCount]\n",
    "    \n",
    "    #create df\n",
    "    dfData = {\"user_id\": topUsers}\n",
    "    for i in range(5):\n",
    "        dfData[\"id3_{}\".format(i+1)] = [predictedId3s[user][i] for user in topUsers]\n",
    "    ret = pd.DataFrame(data=dfData)\n",
    "    if verbose: print(ret)\n",
    "    return ret"
   ]
  },
  {
   "cell_type": "code",
   "execution_count": 8,
   "metadata": {
    "collapsed": true
   },
   "outputs": [],
   "source": [
    "%%writeandexecute -i userVisits src/models/stefan.py\n",
    "\n",
    "from ediblepickle import checkpoint\n",
    "\n",
    "@checkpoint(work_dir=\"data/processed\", key=lambda args, kwargs: \"userDayVisits\")\n",
    "def userVisits(df):\n",
    "    userId3Visits = df.groupby([\"user_id\", \"date\"])[\"id3\"].apply(lambda x: list(set(x))).to_dict()\n",
    "    return userId3Visits"
   ]
  },
  {
   "cell_type": "code",
   "execution_count": null,
   "metadata": {
    "collapsed": false
   },
   "outputs": [],
   "source": [
    "%%writeandexecute -i predict src/models/stefan.py\n",
    "\n",
    "def predict(train, trainUsers=1000, verbose=False, duration=2):\n",
    "    id3s = train[\"id3\"].unique()\n",
    "    users = train[\"user_id\"].unique()\n",
    "    minDayTrain = train[\"date\"].min()\n",
    "    maxDayTrain = train[\"date\"].max()\n",
    "    userId3Visits = userVisits(train)\n",
    "    X1 = findX1Samples(id3s, userId3Visits, minDayTrain, maxDayTrain, users[:trainUsers], duration, cutoff=1000, verbose=verbose)\n",
    "    X0 = findX0Samples(X1, id3s, verbose=verbose)\n",
    "    regressors = createRegressors(X0, X1, id3s, verbose=verbose)\n",
    "    predictions = computePredictions(users, regressors, maxDayTrain, userId3Visits, duration, id3s, verbose=verbose)\n",
    "    df = extractTopPredictions(predictions, users, verbose=verbose)\n",
    "    return df"
   ]
  },
  {
   "cell_type": "markdown",
   "metadata": {},
   "source": [
    "## Sample Usage"
   ]
  },
  {
   "cell_type": "code",
   "execution_count": null,
   "metadata": {
    "collapsed": false
   },
   "outputs": [
    {
     "name": "stdout",
     "output_type": "stream",
     "text": [
      "loading data set...\n",
      "computing predictions...\n"
     ]
    }
   ],
   "source": [
    "from data.util import scoreSubmission\n",
    "\n",
    "score, predictions = scoreSubmission(lambda train: predict(train, verbose=True), verbose=True)\n",
    "print(score)\n",
    "predictions.to_csv(\"data/output/stefan.csv\")"
   ]
  },
  {
   "cell_type": "code",
   "execution_count": null,
   "metadata": {
    "collapsed": true
   },
   "outputs": [],
   "source": []
  }
 ],
 "metadata": {
  "kernelspec": {
   "display_name": "Python 3",
   "language": "python",
   "name": "python3"
  },
  "language_info": {
   "codemirror_mode": {
    "name": "ipython",
    "version": 3
   },
   "file_extension": ".py",
   "mimetype": "text/x-python",
   "name": "python",
   "nbconvert_exporter": "python",
   "pygments_lexer": "ipython3",
   "version": "3.5.3"
  }
 },
 "nbformat": 4,
 "nbformat_minor": 2
}
