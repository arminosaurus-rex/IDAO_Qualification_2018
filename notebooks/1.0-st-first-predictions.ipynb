{
 "cells": [
  {
   "cell_type": "code",
   "execution_count": 1,
   "metadata": {
    "collapsed": false
   },
   "outputs": [
    {
     "name": "stdout",
     "output_type": "stream",
     "text": [
      "'writeandexecute' magic loaded.\n"
     ]
    }
   ],
   "source": [
    "import os\n",
    "import sys\n",
    "root_dir = os.path.split(os.getcwd())[0]\n",
    "src_dir = os.path.join(root_dir, \"src\")\n",
    "if src_dir not in sys.path:\n",
    "    sys.path.append(src_dir)\n",
    "os.chdir(root_dir)\n",
    "\n",
    "%load_ext ipyext.writeandexecute"
   ]
  },
  {
   "cell_type": "code",
   "execution_count": 2,
   "metadata": {
    "collapsed": false
   },
   "outputs": [],
   "source": [
    "%%writeandexecute -i reportProgress src/models/stefan.py\n",
    "\n",
    "import time\n",
    "import datetime\n",
    "\n",
    "progressInfo = {}\n",
    "\n",
    "def formatTime(seconds):\n",
    "    return \"{}m {}s\".format(round(seconds) // 60, round(seconds) % 60)\n",
    "\n",
    "def reportProgress(name, current, count, updateFrequency=15):\n",
    "    if not name in progressInfo:\n",
    "        progressInfo[name] = {\"lastUpdate\": time.time(), \"start\": time.time(), \"lastCount\": current}\n",
    "        print(\"starting {}...\".format(name))\n",
    "    elif current >= count - 1:\n",
    "        print(\"finished {}\".format(name))\n",
    "    elif time.time() - progressInfo[name][\"lastUpdate\"] >= updateFrequency:\n",
    "        print(\"computing {}, {}% done, {} elapsed, {} remaining\".format(name, round(100.0 * current / count), formatTime(time.time() - progressInfo[name][\"start\"]), formatTime((time.time() - progressInfo[name][\"lastUpdate\"]) / (current - progressInfo[name][\"lastCount\"]) * (count - current))))\n",
    "        progressInfo[name][\"lastUpdate\"] = time.time()\n",
    "        progressInfo[name][\"lastCount\"] = current\n",
    "        "
   ]
  },
  {
   "cell_type": "code",
   "execution_count": 3,
   "metadata": {
    "collapsed": true
   },
   "outputs": [],
   "source": [
    "%%writeandexecute -i createFeatures src/models/stefan.py\n",
    "\n",
    "def createFeatures(user, day, userId3Visits, id3s, duration=7, sums=False):\n",
    "    id3Visited = []\n",
    "    for d in range(max(0, day - duration), day):\n",
    "        if (user, d) in userId3Visits:\n",
    "            id3Visited += userId3Visits[(user, d)]\n",
    "    return [id3Visited.count(i) for i in id3s] + ([len(id3Visited)] if sums else [])"
   ]
  },
  {
   "cell_type": "code",
   "execution_count": 4,
   "metadata": {
    "collapsed": true
   },
   "outputs": [],
   "source": [
    "%%writeandexecute -i findX1Samples src/models/stefan.py\n",
    "\n",
    "def findX1Samples(id3s, userId3Visits, minDayTrain, maxDayTrain, users, duration, cutoff=10000, verbose=False):\n",
    "    X1 = {id3: [] for id3 in id3s}\n",
    "    for i, user in enumerate(users):\n",
    "        if verbose: reportProgress(\"computation of X1 samples\", i, len(users))\n",
    "        for day in range(maxDayTrain, minDayTrain - 1, -1):\n",
    "            feat = createFeatures(user, day, userId3Visits, id3s, duration=duration, sums=True)\n",
    "            for id3 in id3s:\n",
    "                if len(X1[id3]) < cutoff and (user, day) in userId3Visits and id3 in userId3Visits[(user, day)]:\n",
    "                    if not any([(user, d) in userId3Visits and id3 in userId3Visits[(user, d)] for d in range(max(0, day - 21), day)]):\n",
    "                        X1[id3].append(feat)\n",
    "    return X1"
   ]
  },
  {
   "cell_type": "code",
   "execution_count": 5,
   "metadata": {
    "collapsed": true
   },
   "outputs": [],
   "source": [
    "%%writeandexecute -i findX0Samples src/models/stefan.py\n",
    "\n",
    "from random import shuffle\n",
    "\n",
    "def findX0Samples(X1, id3s, verbose=False):\n",
    "    X0 = {}\n",
    "    for i, id3 in enumerate(id3s):\n",
    "        if verbose: reportProgress(\"computation of X0 samples\", i, len(id3s))\n",
    "        rows = sum([X1[i] for i in id3s if not i == id3], [])\n",
    "        shuffle(rows)\n",
    "        X0[id3] = rows[:len(X1[id3])]\n",
    "    return X0"
   ]
  },
  {
   "cell_type": "code",
   "execution_count": 6,
   "metadata": {
    "collapsed": true
   },
   "outputs": [],
   "source": [
    "%%writeandexecute -i createRegressors src/models/stefan.py\n",
    "\n",
    "from sklearn.linear_model import SGDRegressor\n",
    "from sklearn.ensemble import RandomForestRegressor\n",
    "\n",
    "def createRegressors(X0, X1, id3s, verbose=False):\n",
    "    regressors = {}\n",
    "    for i, id3 in enumerate(id3s):\n",
    "        if verbose: reportProgress(\"fitting regressors\", i, len(id3s))\n",
    "        if len(X0[id3]) > 0 and len(X1[id3]) > 0:\n",
    "            regressors[id3] = RandomForestRegressor(max_depth=3, n_estimators=3).fit(X0[id3] + X1[id3], [0] * len(X0[id3]) + [1] * len(X1[id3])) \n",
    "    return regressors"
   ]
  },
  {
   "cell_type": "code",
   "execution_count": 7,
   "metadata": {
    "collapsed": true
   },
   "outputs": [],
   "source": [
    "%%writeandexecute -i computePredictions src/models/stefan.py\n",
    "\n",
    "def computePredictions(users, regressors, maxDayTrain, userId3Visits, duration, id3s, verbose=False):\n",
    "    predictions = {user: {} for user in users}\n",
    "    for i, user in enumerate(users):\n",
    "        if verbose: reportProgress(\"predicting user behaviour\", i, len(users))\n",
    "        prof = createFeatures(user, maxDayTrain, userId3Visits, id3s, duration=duration, sums=True)\n",
    "        visited = sum([userId3Visits[(user, d)] if (user, d) in userId3Visits else [] for d in range(max(0, maxDayTrain - 21), maxDayTrain)], [])\n",
    "        for id3, regressor in regressors.items():\n",
    "            if not id3 in visited:\n",
    "                predictions[user][id3] = regressor.predict([prof])[0]\n",
    "    return predictions"
   ]
  },
  {
   "cell_type": "code",
   "execution_count": 8,
   "metadata": {
    "collapsed": true
   },
   "outputs": [],
   "source": [
    "%%writeandexecute -i extractTopPredictions src/models/stefan.py\n",
    "\n",
    "import pandas as pd\n",
    "\n",
    "def extractTopPredictions(predictions, users, topCount=-1, verbose=False):\n",
    "    #sum up\n",
    "    if topCount == -1:\n",
    "        topCount = len(predictions) // 20\n",
    "    #regressorScores = {id3: regressors[id3].score(X0[id3] + X1[id3], [0] * len(X0[id3]) + [1] * len(X1[id3])) for id3 in id3s}\n",
    "    predictedId3s = {user: sorted(predictions[user].keys(), key=lambda id3: -predictions[user][id3])[:5] for user in users}\n",
    "    certainty = {user: sum([predictions[user][id3] for id3 in predictedId3s[user]]) for user in users}\n",
    "    topUsers = sorted(users, key=lambda user: -certainty[user])[:topCount]\n",
    "    \n",
    "    #create df\n",
    "    dfData = {\"user_id\": topUsers}\n",
    "    for i in range(5):\n",
    "        dfData[\"id3_{}\".format(i+1)] = [predictedId3s[user][i] for user in topUsers]\n",
    "    ret = pd.DataFrame(data=dfData)\n",
    "    if verbose: print(ret)\n",
    "    return ret"
   ]
  },
  {
   "cell_type": "code",
   "execution_count": 9,
   "metadata": {
    "collapsed": false
   },
   "outputs": [],
   "source": [
    "%%writeandexecute -i userVisits src/models/stefan.py\n",
    "\n",
    "from ediblepickle import checkpoint\n",
    "\n",
    "@checkpoint(work_dir=\"data/processed\", key=lambda args, kwargs: \"userDayVisits.{}rows\".format(args[0][\"id3\"].count()))\n",
    "def userVisits(df):\n",
    "    userId3Visits = df.groupby([\"user_id\", \"date\"])[\"id3\"].apply(lambda x: list(set(x))).to_dict()\n",
    "    return userId3Visits"
   ]
  },
  {
   "cell_type": "code",
   "execution_count": null,
   "metadata": {
    "collapsed": false
   },
   "outputs": [],
   "source": [
    "%%writeandexecute -i predict src/models/stefan.py\n",
    "\n",
    "def predict(train, trainUsers=1000, verbose=False, duration=2, minImpressions=200):\n",
    "    #find id3s and users\n",
    "    if verbose: print(\"finding users and id3s...\")\n",
    "    id3s = train[\"id3\"].unique()\n",
    "    users = train[\"user_id\"].unique()\n",
    "    \n",
    "    #apply request filter\n",
    "    if verbose: print(\"applying request filter...\")\n",
    "    vc = train[\"user_id\"].value_counts()\n",
    "    activeUsers = list(vc[vc >= minImpressions].index)\n",
    "    train = train[train[\"user_id\"].isin(activeUsers)]\n",
    "    \n",
    "    #compute lookup tables\n",
    "    if verbose: print(\"computing lookup tables...\")\n",
    "    minDayTrain = train[\"date\"].min()\n",
    "    maxDayTrain = train[\"date\"].max()\n",
    "    userId3Visits = userVisits(train)\n",
    "    \n",
    "    #predict\n",
    "    X1 = findX1Samples(id3s, userId3Visits, minDayTrain, maxDayTrain, activeUsers[:trainUsers], duration, cutoff=1000, verbose=verbose)\n",
    "    X0 = findX0Samples(X1, id3s, verbose=verbose)\n",
    "    regressors = createRegressors(X0, X1, id3s, verbose=verbose)\n",
    "    predictions = computePredictions(activeUsers, regressors, maxDayTrain, userId3Visits, duration, id3s, verbose=verbose)\n",
    "    df = extractTopPredictions(predictions, activeUsers, verbose=verbose)\n",
    "    return df"
   ]
  },
  {
   "cell_type": "markdown",
   "metadata": {},
   "source": [
    "## Sample Usage"
   ]
  },
  {
   "cell_type": "code",
   "execution_count": null,
   "metadata": {
    "collapsed": false
   },
   "outputs": [
    {
     "name": "stdout",
     "output_type": "stream",
     "text": [
      "loading data set...\n",
      "computing predictions...\n",
      "finding users and id3s...\n",
      "applying request filter...\n",
      "computing lookup tables...\n",
      "starting computation of X1 samples...\n",
      "computing computation of X1 samples, 0% done, 0m 19s elapsed, 161m 34s remaining\n",
      "computing computation of X1 samples, 0% done, 0m 35s elapsed, 132m 10s remaining\n",
      "computing computation of X1 samples, 1% done, 0m 53s elapsed, 95m 10s remaining\n",
      "computing computation of X1 samples, 1% done, 1m 9s elapsed, 89m 19s remaining\n",
      "computing computation of X1 samples, 1% done, 1m 24s elapsed, 83m 11s remaining\n",
      "computing computation of X1 samples, 2% done, 1m 40s elapsed, 66m 36s remaining\n",
      "computing computation of X1 samples, 2% done, 1m 55s elapsed, 61m 26s remaining\n",
      "computing computation of X1 samples, 3% done, 2m 13s elapsed, 58m 40s remaining\n",
      "computing computation of X1 samples, 3% done, 2m 30s elapsed, 53m 6s remaining\n",
      "computing computation of X1 samples, 4% done, 2m 45s elapsed, 48m 37s remaining\n",
      "computing computation of X1 samples, 4% done, 3m 1s elapsed, 41m 56s remaining\n",
      "computing computation of X1 samples, 5% done, 3m 16s elapsed, 39m 57s remaining\n",
      "computing computation of X1 samples, 6% done, 3m 32s elapsed, 35m 14s remaining\n",
      "computing computation of X1 samples, 6% done, 3m 47s elapsed, 33m 48s remaining\n",
      "computing computation of X1 samples, 7% done, 4m 3s elapsed, 31m 9s remaining\n",
      "computing computation of X1 samples, 8% done, 4m 18s elapsed, 29m 50s remaining\n",
      "computing computation of X1 samples, 9% done, 4m 35s elapsed, 27m 47s remaining\n",
      "computing computation of X1 samples, 10% done, 4m 50s elapsed, 25m 27s remaining\n",
      "computing computation of X1 samples, 11% done, 5m 6s elapsed, 22m 12s remaining\n",
      "computing computation of X1 samples, 12% done, 5m 22s elapsed, 20m 44s remaining\n",
      "computing computation of X1 samples, 13% done, 5m 37s elapsed, 18m 12s remaining\n",
      "computing computation of X1 samples, 14% done, 5m 53s elapsed, 17m 14s remaining\n",
      "computing computation of X1 samples, 16% done, 6m 9s elapsed, 14m 57s remaining\n",
      "computing computation of X1 samples, 17% done, 6m 24s elapsed, 14m 20s remaining\n",
      "computing computation of X1 samples, 19% done, 6m 39s elapsed, 12m 48s remaining\n",
      "computing computation of X1 samples, 21% done, 6m 55s elapsed, 12m 2s remaining\n",
      "computing computation of X1 samples, 22% done, 7m 11s elapsed, 10m 46s remaining\n",
      "computing computation of X1 samples, 24% done, 7m 26s elapsed, 10m 35s remaining\n",
      "computing computation of X1 samples, 26% done, 7m 41s elapsed, 9m 40s remaining\n",
      "computing computation of X1 samples, 28% done, 7m 57s elapsed, 9m 13s remaining\n",
      "computing computation of X1 samples, 30% done, 8m 12s elapsed, 8m 29s remaining\n",
      "computing computation of X1 samples, 33% done, 8m 28s elapsed, 7m 55s remaining\n",
      "computing computation of X1 samples, 35% done, 8m 43s elapsed, 7m 22s remaining\n",
      "computing computation of X1 samples, 37% done, 8m 59s elapsed, 6m 46s remaining\n",
      "computing computation of X1 samples, 40% done, 9m 14s elapsed, 6m 25s remaining\n",
      "computing computation of X1 samples, 42% done, 9m 29s elapsed, 6m 4s remaining\n",
      "computing computation of X1 samples, 45% done, 9m 44s elapsed, 5m 35s remaining\n",
      "computing computation of X1 samples, 47% done, 10m 0s elapsed, 5m 9s remaining\n",
      "computing computation of X1 samples, 50% done, 10m 15s elapsed, 4m 46s remaining\n",
      "computing computation of X1 samples, 53% done, 10m 30s elapsed, 4m 25s remaining\n",
      "computing computation of X1 samples, 55% done, 10m 45s elapsed, 4m 4s remaining\n",
      "computing computation of X1 samples, 58% done, 11m 1s elapsed, 3m 42s remaining\n",
      "computing computation of X1 samples, 61% done, 11m 16s elapsed, 3m 19s remaining\n",
      "computing computation of X1 samples, 64% done, 11m 32s elapsed, 3m 2s remaining\n",
      "computing computation of X1 samples, 67% done, 11m 47s elapsed, 2m 42s remaining\n",
      "computing computation of X1 samples, 70% done, 12m 2s elapsed, 2m 25s remaining\n",
      "computing computation of X1 samples, 74% done, 12m 17s elapsed, 2m 9s remaining\n",
      "computing computation of X1 samples, 77% done, 12m 32s elapsed, 1m 50s remaining\n",
      "computing computation of X1 samples, 80% done, 12m 48s elapsed, 1m 36s remaining\n",
      "computing computation of X1 samples, 83% done, 13m 3s elapsed, 1m 21s remaining\n",
      "computing computation of X1 samples, 86% done, 13m 18s elapsed, 1m 4s remaining\n",
      "computing computation of X1 samples, 90% done, 13m 33s elapsed, 0m 47s remaining\n",
      "computing computation of X1 samples, 93% done, 13m 49s elapsed, 0m 31s remaining\n",
      "computing computation of X1 samples, 96% done, 14m 4s elapsed, 0m 16s remaining\n",
      "finished computation of X1 samples\n",
      "starting computation of X0 samples...\n",
      "computing computation of X0 samples, 1% done, 0m 16s elapsed, 18m 52s remaining\n",
      "computing computation of X0 samples, 3% done, 0m 32s elapsed, 18m 31s remaining\n",
      "computing computation of X0 samples, 4% done, 0m 47s elapsed, 17m 6s remaining\n",
      "computing computation of X0 samples, 6% done, 1m 3s elapsed, 17m 37s remaining\n",
      "computing computation of X0 samples, 7% done, 1m 19s elapsed, 17m 4s remaining\n",
      "computing computation of X0 samples, 8% done, 1m 34s elapsed, 16m 44s remaining\n",
      "computing computation of X0 samples, 10% done, 1m 50s elapsed, 18m 11s remaining\n",
      "computing computation of X0 samples, 11% done, 2m 6s elapsed, 16m 57s remaining\n",
      "computing computation of X0 samples, 13% done, 2m 21s elapsed, 16m 14s remaining\n",
      "computing computation of X0 samples, 14% done, 2m 37s elapsed, 15m 31s remaining\n",
      "computing computation of X0 samples, 15% done, 2m 52s elapsed, 15m 5s remaining\n",
      "computing computation of X0 samples, 17% done, 3m 8s elapsed, 14m 44s remaining\n",
      "computing computation of X0 samples, 18% done, 3m 23s elapsed, 14m 46s remaining\n",
      "computing computation of X0 samples, 20% done, 3m 38s elapsed, 14m 28s remaining\n",
      "computing computation of X0 samples, 21% done, 3m 53s elapsed, 14m 3s remaining\n",
      "computing computation of X0 samples, 23% done, 4m 8s elapsed, 13m 47s remaining\n",
      "computing computation of X0 samples, 24% done, 4m 23s elapsed, 13m 31s remaining\n",
      "computing computation of X0 samples, 25% done, 4m 39s elapsed, 13m 37s remaining\n",
      "computing computation of X0 samples, 27% done, 4m 54s elapsed, 13m 24s remaining\n",
      "computing computation of X0 samples, 28% done, 5m 10s elapsed, 13m 10s remaining\n",
      "computing computation of X0 samples, 30% done, 5m 25s elapsed, 12m 32s remaining\n",
      "computing computation of X0 samples, 31% done, 5m 40s elapsed, 12m 18s remaining\n",
      "computing computation of X0 samples, 32% done, 5m 55s elapsed, 12m 13s remaining\n",
      "computing computation of X0 samples, 34% done, 6m 11s elapsed, 11m 37s remaining\n",
      "computing computation of X0 samples, 35% done, 6m 26s elapsed, 11m 35s remaining\n",
      "computing computation of X0 samples, 37% done, 6m 41s elapsed, 11m 27s remaining\n",
      "computing computation of X0 samples, 38% done, 6m 57s elapsed, 11m 10s remaining\n",
      "computing computation of X0 samples, 40% done, 7m 13s elapsed, 10m 42s remaining\n",
      "computing computation of X0 samples, 41% done, 7m 28s elapsed, 10m 29s remaining\n",
      "computing computation of X0 samples, 42% done, 7m 43s elapsed, 10m 15s remaining\n",
      "computing computation of X0 samples, 44% done, 7m 58s elapsed, 10m 16s remaining\n",
      "computing computation of X0 samples, 45% done, 8m 13s elapsed, 9m 47s remaining\n",
      "computing computation of X0 samples, 47% done, 8m 29s elapsed, 9m 27s remaining\n",
      "computing computation of X0 samples, 48% done, 8m 45s elapsed, 9m 38s remaining\n",
      "computing computation of X0 samples, 50% done, 9m 1s elapsed, 8m 57s remaining\n",
      "computing computation of X0 samples, 51% done, 9m 17s elapsed, 8m 36s remaining\n",
      "computing computation of X0 samples, 53% done, 9m 32s elapsed, 8m 32s remaining\n",
      "computing computation of X0 samples, 54% done, 9m 47s elapsed, 8m 14s remaining\n",
      "computing computation of X0 samples, 55% done, 10m 3s elapsed, 8m 0s remaining\n",
      "computing computation of X0 samples, 57% done, 10m 19s elapsed, 7m 39s remaining\n",
      "computing computation of X0 samples, 58% done, 10m 34s elapsed, 7m 28s remaining\n",
      "computing computation of X0 samples, 60% done, 10m 49s elapsed, 7m 11s remaining\n",
      "computing computation of X0 samples, 61% done, 11m 5s elapsed, 6m 51s remaining\n",
      "computing computation of X0 samples, 63% done, 11m 20s elapsed, 6m 40s remaining\n",
      "computing computation of X0 samples, 64% done, 11m 35s elapsed, 6m 25s remaining\n",
      "computing computation of X0 samples, 65% done, 11m 50s elapsed, 6m 8s remaining\n",
      "computing computation of X0 samples, 67% done, 12m 5s elapsed, 5m 59s remaining\n",
      "computing computation of X0 samples, 68% done, 12m 22s elapsed, 5m 36s remaining\n",
      "computing computation of X0 samples, 70% done, 12m 37s elapsed, 5m 23s remaining\n",
      "computing computation of X0 samples, 71% done, 12m 53s elapsed, 5m 3s remaining\n",
      "computing computation of X0 samples, 73% done, 13m 8s elapsed, 4m 55s remaining\n",
      "computing computation of X0 samples, 74% done, 13m 24s elapsed, 4m 35s remaining\n",
      "computing computation of X0 samples, 76% done, 13m 39s elapsed, 4m 20s remaining\n",
      "computing computation of X0 samples, 77% done, 13m 54s elapsed, 4m 5s remaining\n",
      "computing computation of X0 samples, 79% done, 14m 10s elapsed, 3m 49s remaining\n",
      "computing computation of X0 samples, 80% done, 14m 25s elapsed, 3m 35s remaining\n",
      "computing computation of X0 samples, 81% done, 14m 41s elapsed, 3m 34s remaining\n",
      "computing computation of X0 samples, 83% done, 14m 57s elapsed, 3m 9s remaining\n",
      "computing computation of X0 samples, 84% done, 15m 12s elapsed, 2m 53s remaining\n",
      "computing computation of X0 samples, 86% done, 15m 27s elapsed, 2m 34s remaining\n",
      "computing computation of X0 samples, 87% done, 15m 43s elapsed, 2m 20s remaining\n",
      "computing computation of X0 samples, 88% done, 15m 58s elapsed, 2m 4s remaining\n",
      "computing computation of X0 samples, 90% done, 16m 13s elapsed, 1m 52s remaining\n",
      "computing computation of X0 samples, 91% done, 16m 29s elapsed, 1m 45s remaining\n",
      "computing computation of X0 samples, 92% done, 16m 44s elapsed, 1m 31s remaining\n",
      "computing computation of X0 samples, 94% done, 16m 59s elapsed, 1m 13s remaining\n",
      "computing computation of X0 samples, 95% done, 17m 15s elapsed, 0m 54s remaining\n",
      "computing computation of X0 samples, 97% done, 17m 30s elapsed, 0m 38s remaining\n",
      "computing computation of X0 samples, 98% done, 17m 46s elapsed, 0m 22s remaining\n",
      "computing computation of X0 samples, 99% done, 18m 1s elapsed, 0m 6s remaining\n",
      "finished computation of X0 samples\n",
      "starting fitting regressors...\n",
      "computing fitting regressors, 20% done, 0m 15s elapsed, 1m 2s remaining\n",
      "computing fitting regressors, 42% done, 0m 30s elapsed, 0m 39s remaining\n",
      "computing fitting regressors, 86% done, 0m 45s elapsed, 0m 5s remaining\n",
      "finished fitting regressors\n",
      "starting predicting user behaviour...\n",
      "computing predicting user behaviour, 0% done, 0m 15s elapsed, 165m 7s remaining\n",
      "computing predicting user behaviour, 0% done, 0m 30s elapsed, 175m 15s remaining\n",
      "computing predicting user behaviour, 0% done, 0m 45s elapsed, 193m 48s remaining\n",
      "computing predicting user behaviour, 1% done, 1m 0s elapsed, 185m 33s remaining\n",
      "computing predicting user behaviour, 1% done, 1m 15s elapsed, 195m 2s remaining\n",
      "computing predicting user behaviour, 1% done, 1m 30s elapsed, 178m 20s remaining\n",
      "computing predicting user behaviour, 1% done, 1m 46s elapsed, 191m 59s remaining\n",
      "computing predicting user behaviour, 1% done, 2m 1s elapsed, 174m 9s remaining\n",
      "computing predicting user behaviour, 1% done, 2m 16s elapsed, 176m 2s remaining\n",
      "computing predicting user behaviour, 1% done, 2m 31s elapsed, 172m 31s remaining\n",
      "computing predicting user behaviour, 2% done, 2m 46s elapsed, 164m 21s remaining\n",
      "computing predicting user behaviour, 2% done, 3m 1s elapsed, 179m 45s remaining\n",
      "computing predicting user behaviour, 2% done, 3m 16s elapsed, 178m 59s remaining\n",
      "computing predicting user behaviour, 2% done, 3m 31s elapsed, 172m 32s remaining\n",
      "computing predicting user behaviour, 2% done, 3m 47s elapsed, 195m 33s remaining\n",
      "computing predicting user behaviour, 2% done, 4m 2s elapsed, 173m 32s remaining\n",
      "computing predicting user behaviour, 2% done, 4m 17s elapsed, 176m 3s remaining\n",
      "computing predicting user behaviour, 3% done, 4m 32s elapsed, 170m 43s remaining\n",
      "computing predicting user behaviour, 3% done, 4m 47s elapsed, 171m 36s remaining\n",
      "computing predicting user behaviour, 3% done, 5m 2s elapsed, 170m 5s remaining\n",
      "computing predicting user behaviour, 3% done, 5m 17s elapsed, 168m 14s remaining\n",
      "computing predicting user behaviour, 3% done, 5m 33s elapsed, 168m 17s remaining\n",
      "computing predicting user behaviour, 3% done, 5m 48s elapsed, 167m 26s remaining\n",
      "computing predicting user behaviour, 3% done, 6m 3s elapsed, 170m 7s remaining\n",
      "computing predicting user behaviour, 4% done, 6m 18s elapsed, 172m 16s remaining\n",
      "computing predicting user behaviour, 4% done, 6m 33s elapsed, 170m 22s remaining\n",
      "computing predicting user behaviour, 4% done, 6m 48s elapsed, 167m 16s remaining\n",
      "computing predicting user behaviour, 4% done, 7m 3s elapsed, 158m 1s remaining\n",
      "computing predicting user behaviour, 4% done, 7m 18s elapsed, 168m 0s remaining\n",
      "computing predicting user behaviour, 4% done, 7m 33s elapsed, 168m 41s remaining\n",
      "computing predicting user behaviour, 4% done, 7m 48s elapsed, 161m 12s remaining\n"
     ]
    }
   ],
   "source": [
    "from data.util import scoreSubmission\n",
    "\n",
    "score, predictions = scoreSubmission(lambda train: predict(train, verbose=True), verbose=True)\n",
    "print(score)\n",
    "predictions.to_csv(\"data/output/stefan.csv\")"
   ]
  },
  {
   "cell_type": "code",
   "execution_count": null,
   "metadata": {
    "collapsed": true
   },
   "outputs": [],
   "source": []
  }
 ],
 "metadata": {
  "kernelspec": {
   "display_name": "Python 3",
   "language": "python",
   "name": "python3"
  },
  "language_info": {
   "codemirror_mode": {
    "name": "ipython",
    "version": 3
   },
   "file_extension": ".py",
   "mimetype": "text/x-python",
   "name": "python",
   "nbconvert_exporter": "python",
   "pygments_lexer": "ipython3",
   "version": "3.5.3"
  }
 },
 "nbformat": 4,
 "nbformat_minor": 2
}
