{
 "cells": [
  {
   "cell_type": "code",
   "execution_count": 1,
   "metadata": {
    "collapsed": false
   },
   "outputs": [
    {
     "name": "stdout",
     "output_type": "stream",
     "text": [
      "'writeandexecute' magic loaded.\n"
     ]
    }
   ],
   "source": [
    "import os\n",
    "import sys\n",
    "root_dir = os.path.split(os.getcwd())[0]\n",
    "src_dir = os.path.join(root_dir, \"src\")\n",
    "if src_dir not in sys.path:\n",
    "    sys.path.append(src_dir)\n",
    "os.chdir(root_dir)\n",
    "\n",
    "%load_ext ipyext.writeandexecute"
   ]
  },
  {
   "cell_type": "code",
   "execution_count": 2,
   "metadata": {
    "collapsed": false
   },
   "outputs": [],
   "source": [
    "%%writeandexecute -i reportProgress src/models/stefan.py\n",
    "\n",
    "import time\n",
    "import datetime\n",
    "\n",
    "progressInfo = {}\n",
    "\n",
    "def formatTime(seconds):\n",
    "    return \"{}m {}s\".format(round(seconds) // 60, round(seconds) % 60)\n",
    "\n",
    "def reportProgress(name, current, count, updateFrequency=15):\n",
    "    if not name in progressInfo:\n",
    "        progressInfo[name] = {\"lastUpdate\": time.time(), \"start\": time.time(), \"lastCount\": current}\n",
    "        print(\"starting {}...\".format(name))\n",
    "    elif current >= count - 1:\n",
    "        print(\"finished {}\".format(name))\n",
    "    elif time.time() - progressInfo[name][\"lastUpdate\"] >= updateFrequency:\n",
    "        print(\"computing {}, {}% done, {} elapsed, {} remaining\".format(name, round(100.0 * current / count), formatTime(time.time() - progressInfo[name][\"start\"]), formatTime((time.time() - progressInfo[name][\"lastUpdate\"]) / (current - progressInfo[name][\"lastCount\"]) * (count - current))))\n",
    "        progressInfo[name][\"lastUpdate\"] = time.time()\n",
    "        progressInfo[name][\"lastCount\"] = current\n",
    "        "
   ]
  },
  {
   "cell_type": "code",
   "execution_count": 3,
   "metadata": {
    "collapsed": true
   },
   "outputs": [],
   "source": [
    "%%writeandexecute -i createFeatures src/models/stefan.py\n",
    "\n",
    "def createFeatures(user, day, userId3Visits, id3s, duration=7, sums=False):\n",
    "    id3Visited = []\n",
    "    for d in range(max(0, day - duration), day):\n",
    "        if (user, d) in userId3Visits:\n",
    "            id3Visited += userId3Visits[(user, d)]\n",
    "    return [id3Visited.count(i) for i in id3s] + ([len(id3Visited)] if sums else [])"
   ]
  },
  {
   "cell_type": "code",
   "execution_count": 4,
   "metadata": {
    "collapsed": true
   },
   "outputs": [],
   "source": [
    "%%writeandexecute -i findX1Samples src/models/stefan.py\n",
    "\n",
    "def findX1Samples(id3s, userId3Visits, minDayTrain, maxDayTrain, users, duration, cutoff=10000, verbose=False):\n",
    "    X1 = {id3: [] for id3 in id3s}\n",
    "    for i, user in enumerate(users):\n",
    "        if verbose: reportProgress(\"computation of X1 samples\", i, len(users))\n",
    "        for day in range(maxDayTrain, minDayTrain - 1, -1):\n",
    "            feat = createFeatures(user, day, userId3Visits, id3s, duration=duration, sums=True)\n",
    "            for id3 in id3s:\n",
    "                if len(X1[id3]) < cutoff and (user, day) in userId3Visits and id3 in userId3Visits[(user, day)]:\n",
    "                    if not any([(user, d) in userId3Visits and id3 in userId3Visits[(user, d)] for d in range(max(0, day - 21), day)]):\n",
    "                        X1[id3].append(feat)\n",
    "    return X1"
   ]
  },
  {
   "cell_type": "code",
   "execution_count": 5,
   "metadata": {
    "collapsed": true
   },
   "outputs": [],
   "source": [
    "%%writeandexecute -i findX0Samples src/models/stefan.py\n",
    "\n",
    "from random import shuffle\n",
    "\n",
    "def findX0Samples(X1, id3s, verbose=False):\n",
    "    X0 = {}\n",
    "    for i, id3 in enumerate(id3s):\n",
    "        if verbose: reportProgress(\"computation of X0 samples\", i, len(id3s))\n",
    "        rows = sum([X1[i] for i in id3s if not i == id3], [])\n",
    "        shuffle(rows)\n",
    "        X0[id3] = rows[:len(X1[id3])]\n",
    "    return X0"
   ]
  },
  {
   "cell_type": "code",
   "execution_count": 6,
   "metadata": {
    "collapsed": true
   },
   "outputs": [],
   "source": [
    "%%writeandexecute -i createRegressors src/models/stefan.py\n",
    "\n",
    "from sklearn.linear_model import SGDRegressor\n",
    "from sklearn.ensemble import RandomForestRegressor\n",
    "\n",
    "def createRegressors(X0, X1, id3s, verbose=False):\n",
    "    regressors = {}\n",
    "    for i, id3 in enumerate(id3s):\n",
    "        if verbose: reportProgress(\"fitting regressors\", i, len(id3s))\n",
    "        if len(X0[id3]) > 0 and len(X1[id3]) > 0:\n",
    "            regressors[id3] = RandomForestRegressor(max_depth=3, n_estimators=3).fit(X0[id3] + X1[id3], [0] * len(X0[id3]) + [1] * len(X1[id3])) \n",
    "    return regressors"
   ]
  },
  {
   "cell_type": "code",
   "execution_count": 7,
   "metadata": {
    "collapsed": true
   },
   "outputs": [],
   "source": [
    "%%writeandexecute -i computePredictions src/models/stefan.py\n",
    "\n",
    "def computePredictions(users, regressors, maxDayTrain, userId3Visits, duration, id3s, verbose=False):\n",
    "    visited, profiles = {}, []\n",
    "    for i, user in enumerate(users):\n",
    "        if verbose: reportProgress(\"computing eligible id3s\", i, len(users))\n",
    "        profiles.append(createFeatures(user, maxDayTrain, userId3Visits, id3s, duration=duration, sums=True))\n",
    "        visited[user] = sum([userId3Visits[(user, d)] if (user, d) in userId3Visits else [] for d in range(max(0, maxDayTrain - 21), maxDayTrain)], [])\n",
    "        \n",
    "    predictions = {user: {} for user in users}\n",
    "    for i, id3 in enumerate(id3s):\n",
    "        if verbose: reportProgress(\"predicting user behaviour\", i, len(id3s))\n",
    "        if id3 in regressors:\n",
    "            tpred = regressors[id3].predict(profiles)\n",
    "            for i, user in enumerate(users):\n",
    "                if not id3 in visited[user]:\n",
    "                    predictions[user][id3] = tpred[i]\n",
    "    return predictions"
   ]
  },
  {
   "cell_type": "code",
   "execution_count": 8,
   "metadata": {
    "collapsed": true
   },
   "outputs": [],
   "source": [
    "%%writeandexecute -i extractTopPredictions src/models/stefan.py\n",
    "\n",
    "import pandas as pd\n",
    "\n",
    "def extractTopPredictions(predictions, users, topCount=-1, verbose=False):\n",
    "    #sum up\n",
    "    if topCount == -1:\n",
    "        topCount = len(predictions) // 20\n",
    "    #regressorScores = {id3: regressors[id3].score(X0[id3] + X1[id3], [0] * len(X0[id3]) + [1] * len(X1[id3])) for id3 in id3s}\n",
    "    predictedId3s = {user: sorted(predictions[user].keys(), key=lambda id3: -predictions[user][id3])[:5] for user in users}\n",
    "    certainty = {user: sum([predictions[user][id3] for id3 in predictedId3s[user]]) for user in users}\n",
    "    topUsers = sorted(users, key=lambda user: -certainty[user])[:topCount]\n",
    "    \n",
    "    #create df\n",
    "    dfData = {\"user_id\": topUsers}\n",
    "    for i in range(5):\n",
    "        dfData[\"id3_{}\".format(i+1)] = [predictedId3s[user][i] for user in topUsers]\n",
    "    ret = pd.DataFrame(data=dfData)\n",
    "    if verbose: print(ret)\n",
    "    return ret"
   ]
  },
  {
   "cell_type": "code",
   "execution_count": 9,
   "metadata": {
    "collapsed": false
   },
   "outputs": [],
   "source": [
    "%%writeandexecute -i userVisits src/models/stefan.py\n",
    "\n",
    "from ediblepickle import checkpoint\n",
    "\n",
    "@checkpoint(work_dir=\"data/processed\", key=lambda args, kwargs: \"userDayVisits.{}rows\".format(args[0][\"id3\"].count()))\n",
    "def userVisits(df):\n",
    "    userId3Visits = df.groupby([\"user_id\", \"date\"])[\"id3\"].apply(lambda x: list(set(x))).to_dict()\n",
    "    return userId3Visits"
   ]
  },
  {
   "cell_type": "code",
   "execution_count": 10,
   "metadata": {
    "collapsed": false
   },
   "outputs": [],
   "source": [
    "%%writeandexecute -i predict src/models/stefan.py\n",
    "\n",
    "def predict(train, trainUsers=1000, verbose=False, duration=2, minImpressions=10000, cutoff=10000):\n",
    "    #find id3s and users\n",
    "    if verbose: print(\"finding users and id3s...\")\n",
    "    id3s = train[\"id3\"].unique()\n",
    "    users = train[\"user_id\"].unique()\n",
    "    \n",
    "    #apply request filter\n",
    "    if verbose: print(\"applying request filter...\")\n",
    "    vc = train[\"user_id\"].value_counts()\n",
    "    activeUsers = list(vc[vc >= minImpressions].index)\n",
    "    if len(activeUsers) < len(users) // 20: print(\"WARNING: less than 5% active users, can't predict 5%\")\n",
    "    train = train[train[\"user_id\"].isin(activeUsers)]\n",
    "    if verbose: print(\"{} users, {} id3s, {} rows\".format(len(activeUsers), len(id3s), train[\"id3\"].count()))\n",
    "    \n",
    "    #compute lookup tables\n",
    "    if verbose: print(\"computing lookup tables...\")\n",
    "    minDayTrain = train[\"date\"].min()\n",
    "    maxDayTrain = train[\"date\"].max()\n",
    "    userId3Visits = userVisits(train)\n",
    "    \n",
    "    #predict\n",
    "    X1 = findX1Samples(id3s, userId3Visits, minDayTrain, maxDayTrain, activeUsers[:trainUsers], duration, cutoff=cutoff, verbose=verbose)\n",
    "    X0 = findX0Samples(X1, id3s, verbose=verbose)\n",
    "    regressors = createRegressors(X0, X1, id3s, verbose=verbose)\n",
    "    predictions = computePredictions(activeUsers, regressors, maxDayTrain, userId3Visits, duration, id3s, verbose=verbose)\n",
    "    df = extractTopPredictions(predictions, activeUsers, topCount=max(len(activeUsers), len(users) // 20), verbose=verbose)\n",
    "    return df"
   ]
  },
  {
   "cell_type": "markdown",
   "metadata": {},
   "source": [
    "## Sample Usage"
   ]
  },
  {
   "cell_type": "code",
   "execution_count": 11,
   "metadata": {
    "collapsed": false
   },
   "outputs": [
    {
     "name": "stdout",
     "output_type": "stream",
     "text": [
      "loading data set...\n",
      "computing predictions...\n",
      "finding users and id3s...\n",
      "applying request filter...\n",
      "WARNING: less than 5% active users, can't predict 5%\n",
      "18 users, 924 id3s, 235220 rows\n",
      "computing lookup tables...\n",
      "starting computation of X1 samples...\n",
      "computing computation of X1 samples, 11% done, 0m 19s elapsed, 2m 35s remaining\n",
      "computing computation of X1 samples, 22% done, 0m 35s elapsed, 1m 51s remaining\n",
      "computing computation of X1 samples, 39% done, 0m 53s elapsed, 1m 3s remaining\n",
      "computing computation of X1 samples, 56% done, 1m 9s elapsed, 0m 43s remaining\n",
      "computing computation of X1 samples, 72% done, 1m 24s elapsed, 0m 26s remaining\n",
      "finished computation of X1 samples\n",
      "starting computation of X0 samples...\n",
      "finished computation of X0 samples\n",
      "starting fitting regressors...\n",
      "finished fitting regressors\n",
      "starting computing eligible id3s...\n",
      "finished computing eligible id3s\n",
      "starting predicting user behaviour...\n",
      "finished predicting user behaviour\n",
      "    id3_1  id3_2  id3_3  id3_4  id3_5  user_id\n",
      "0      94    121    336    730    771   890669\n",
      "1     336     94    473    460    284   558541\n",
      "2     223     79    548    265    442  1009457\n",
      "3     250    399    223     31    305   351837\n",
      "4     399    415    842    846    126   719043\n",
      "5     515    190     32    182    240   137376\n",
      "6     515    190     32    182    240   421418\n",
      "7     190    791     32    182    480   484840\n",
      "8     190    791     32    182    480     8795\n",
      "9     791    298     32    182    480   241117\n",
      "10     32    182    240    298    791   733408\n",
      "11    791    298     32    182    480   125350\n",
      "12    791    298    182     32    480   247312\n",
      "13    182     32    298    480    240   785655\n",
      "14    791    298     32    182    480   423181\n",
      "15    791    298     32    182    480  1088321\n",
      "16    791    298    182    240    480    33561\n",
      "17    791    298     32    182    480   390572\n",
      "scoring answer...\n",
      "0 of 18 correct\n",
      "score 0.0\n",
      "0.0\n"
     ]
    }
   ],
   "source": [
    "from data.util import scoreSubmission\n",
    "\n",
    "score, predictions = scoreSubmission(lambda train: predict(train, verbose=True), verbose=True)\n",
    "print(score)\n",
    "predictions.to_csv(\"data/output/stefan_train.csv\")"
   ]
  },
  {
   "cell_type": "code",
   "execution_count": 14,
   "metadata": {
    "collapsed": false
   },
   "outputs": [
    {
     "name": "stdout",
     "output_type": "stream",
     "text": [
      "finding users and id3s...\n",
      "applying request filter...\n",
      "WARNING: less than 5% active users, can't predict 5%\n",
      "18 users, 924 id3s, 235273 rows\n",
      "computing lookup tables...\n",
      "starting computation of X1 samples...\n",
      "computing computation of X1 samples, 11% done, 0m 19s elapsed, 2m 32s remaining\n",
      "computing computation of X1 samples, 22% done, 0m 35s elapsed, 1m 51s remaining\n",
      "computing computation of X1 samples, 39% done, 0m 52s elapsed, 1m 3s remaining\n",
      "computing computation of X1 samples, 56% done, 1m 8s elapsed, 0m 43s remaining\n",
      "computing computation of X1 samples, 72% done, 1m 23s elapsed, 0m 25s remaining\n",
      "finished computation of X1 samples\n",
      "starting computation of X0 samples...\n",
      "finished computation of X0 samples\n",
      "starting fitting regressors...\n",
      "finished fitting regressors\n",
      "starting computing eligible id3s...\n",
      "finished computing eligible id3s\n",
      "starting predicting user behaviour...\n",
      "finished predicting user behaviour\n",
      "    id3_1  id3_2  id3_3  id3_4  id3_5  user_id\n",
      "0       3     32    130    142    355   241117\n",
      "1       3     32    130    142    355   558541\n",
      "2       3     32    130    142    355   719043\n",
      "3       3     32    130    142    355   421418\n",
      "4       3     32    130    142    355   890669\n",
      "5     624     32    809    859    400   785655\n",
      "6      32    809    859    429    782   351837\n",
      "7      32    809    859    429    165   247312\n",
      "8      32    809    859    429    165   137376\n",
      "9      32    809    859    429    165   390572\n",
      "10     32    859    809    165    698   733408\n",
      "11     32    859    809    791    289  1009457\n",
      "12     32    859    809    782    791   484840\n",
      "13    809     32    859    782    791   125350\n",
      "14    809     32    859    782    791  1088321\n",
      "15     32    809    859    782    791     8795\n",
      "16    809     32    782    791    289   423181\n",
      "17    809    859    782    791    289    33561\n"
     ]
    }
   ],
   "source": [
    "from data.util import loadDataset\n",
    "\n",
    "progressInfo = {}\n",
    "predictions = predict(loadDataset(), verbose=True)\n",
    "predictions.to_csv(\"data/output/stefan.csv\")"
   ]
  },
  {
   "cell_type": "code",
   "execution_count": null,
   "metadata": {
    "collapsed": true
   },
   "outputs": [],
   "source": []
  }
 ],
 "metadata": {
  "kernelspec": {
   "display_name": "Python 3",
   "language": "python",
   "name": "python3"
  },
  "language_info": {
   "codemirror_mode": {
    "name": "ipython",
    "version": 3
   },
   "file_extension": ".py",
   "mimetype": "text/x-python",
   "name": "python",
   "nbconvert_exporter": "python",
   "pygments_lexer": "ipython3",
   "version": "3.5.3"
  }
 },
 "nbformat": 4,
 "nbformat_minor": 2
}
